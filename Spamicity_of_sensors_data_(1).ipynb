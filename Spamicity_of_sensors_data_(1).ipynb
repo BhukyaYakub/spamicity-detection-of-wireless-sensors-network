{
  "nbformat": 4,
  "nbformat_minor": 0,
  "metadata": {
    "colab": {
      "name": "Spamicity_of_sensors_data (1).ipynb",
      "provenance": [],
      "collapsed_sections": []
    },
    "kernelspec": {
      "name": "python3",
      "display_name": "Python 3"
    },
    "language_info": {
      "name": "python"
    }
  },
  "cells": [
    {
      "cell_type": "code",
      "metadata": {
        "colab": {
          "resources": {
            "http://localhost:8080/nbextensions/google.colab/files.js": {
              "data": "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",
              "ok": true,
              "headers": [
                [
                  "content-type",
                  "application/javascript"
                ]
              ],
              "status": 200,
              "status_text": ""
            }
          },
          "base_uri": "https://localhost:8080/",
          "height": 91
        },
        "id": "n-rQWmVJ6quz",
        "outputId": "6fb65b45-d0a8-4c5f-9cf7-42f9da597082"
      },
      "source": [
        "from google.colab import files\n",
        "files.upload()"
      ],
      "execution_count": 1,
      "outputs": [
        {
          "output_type": "display_data",
          "data": {
            "text/html": [
              "\n",
              "     <input type=\"file\" id=\"files-c3ffc668-ff21-4a37-aadf-cc9393c3afda\" name=\"files[]\" multiple disabled\n",
              "        style=\"border:none\" />\n",
              "     <output id=\"result-c3ffc668-ff21-4a37-aadf-cc9393c3afda\">\n",
              "      Upload widget is only available when the cell has been executed in the\n",
              "      current browser session. Please rerun this cell to enable.\n",
              "      </output>\n",
              "      <script src=\"/nbextensions/google.colab/files.js\"></script> "
            ],
            "text/plain": [
              "<IPython.core.display.HTML object>"
            ]
          },
          "metadata": {
            "tags": []
          }
        },
        {
          "output_type": "stream",
          "text": [
            "Saving kaggle.json to kaggle.json\n"
          ],
          "name": "stdout"
        },
        {
          "output_type": "execute_result",
          "data": {
            "text/plain": [
              "{'kaggle.json': b'{\"username\":\"b131832\",\"key\":\"c999f8842e1013fcf3ece335b48c779a\"}'}"
            ]
          },
          "metadata": {
            "tags": []
          },
          "execution_count": 1
        }
      ]
    },
    {
      "cell_type": "code",
      "metadata": {
        "id": "uc9SPHbz61Mb"
      },
      "source": [
        "!pip install -q kaggle"
      ],
      "execution_count": 2,
      "outputs": []
    },
    {
      "cell_type": "code",
      "metadata": {
        "id": "DSioWhXn7SLW"
      },
      "source": [
        "!mkdir -p ~/.kaggle # creating directoru /.kaggle\n",
        "!cp kaggle.json ~/.kaggle/ # copying the kaggle.json to /.kaggle directory"
      ],
      "execution_count": 3,
      "outputs": []
    },
    {
      "cell_type": "code",
      "metadata": {
        "id": "w0KHLGOi7Vop"
      },
      "source": [
        "!chmod 600 ~/.kaggle/kaggle.json # changing the permissions of kaggle.json"
      ],
      "execution_count": 4,
      "outputs": []
    },
    {
      "cell_type": "code",
      "metadata": {
        "colab": {
          "base_uri": "https://localhost:8080/"
        },
        "id": "hsk6ZfUa7Xuk",
        "outputId": "e501e700-fdab-4e57-d70a-277e00b9ea36"
      },
      "source": [
        "!kaggle datasets download -d caesarlupum/iot-sensordata"
      ],
      "execution_count": 5,
      "outputs": [
        {
          "output_type": "stream",
          "text": [
            "Downloading iot-sensordata.zip to /content\n",
            "100% 0.98M/0.98M [00:00<00:00, 1.49MB/s]\n",
            "\n"
          ],
          "name": "stdout"
        }
      ]
    },
    {
      "cell_type": "code",
      "metadata": {
        "colab": {
          "base_uri": "https://localhost:8080/"
        },
        "id": "kcRa1ptV7c3R",
        "outputId": "bb9ec03f-44b8-4e47-ffc7-af287096eb53"
      },
      "source": [
        "!unzip iot-sensordata.zip"
      ],
      "execution_count": 6,
      "outputs": [
        {
          "output_type": "stream",
          "text": [
            "Archive:  iot-sensordata.zip\n",
            "  inflating: Xdados.txt              \n"
          ],
          "name": "stdout"
        }
      ]
    },
    {
      "cell_type": "code",
      "metadata": {
        "id": "ZPTAox3Q7gku",
        "colab": {
          "base_uri": "https://localhost:8080/",
          "height": 236
        },
        "outputId": "72d4481a-8be9-4a7b-f957-cc5bb35970bb"
      },
      "source": [
        "import numpy as np\n",
        "import pandas as pd   \n",
        "import matplotlib.pyplot as plt\n",
        "import seaborn as sns\n",
        "pd.set_option('max_columns', 150)\n",
        "import random\n",
        "X_ = np.loadtxt('Xdados.txt') # X have 14.400rows x 52 sensors\n",
        "\n",
        "X=pd.DataFrame(X_, columns=['s1','s2','s3','s4','s5','s6','s7','s8','s9','s10','s11','s12','s13','s14','s15','s16','s17','s18','s19','s20','s21','s22','s23','s24','s25','s26','s27','s28','s29','s30','s31','s32','s33','s34','s35','s36','s37','s38','s39','s40','s41','s42','s43','s44','s45','s46','s47','s48','s49','s50','s51','s52']) \n",
        "print(X.shape)\n",
        "X.to_csv('Xdados.csv',index=False)\n",
        "X.head() "
      ],
      "execution_count": 1,
      "outputs": [
        {
          "output_type": "stream",
          "text": [
            "(14400, 52)\n"
          ],
          "name": "stdout"
        },
        {
          "output_type": "execute_result",
          "data": {
            "text/html": [
              "<div>\n",
              "<style scoped>\n",
              "    .dataframe tbody tr th:only-of-type {\n",
              "        vertical-align: middle;\n",
              "    }\n",
              "\n",
              "    .dataframe tbody tr th {\n",
              "        vertical-align: top;\n",
              "    }\n",
              "\n",
              "    .dataframe thead th {\n",
              "        text-align: right;\n",
              "    }\n",
              "</style>\n",
              "<table border=\"1\" class=\"dataframe\">\n",
              "  <thead>\n",
              "    <tr style=\"text-align: right;\">\n",
              "      <th></th>\n",
              "      <th>s1</th>\n",
              "      <th>s2</th>\n",
              "      <th>s3</th>\n",
              "      <th>s4</th>\n",
              "      <th>s5</th>\n",
              "      <th>s6</th>\n",
              "      <th>s7</th>\n",
              "      <th>s8</th>\n",
              "      <th>s9</th>\n",
              "      <th>s10</th>\n",
              "      <th>s11</th>\n",
              "      <th>s12</th>\n",
              "      <th>s13</th>\n",
              "      <th>s14</th>\n",
              "      <th>s15</th>\n",
              "      <th>s16</th>\n",
              "      <th>s17</th>\n",
              "      <th>s18</th>\n",
              "      <th>s19</th>\n",
              "      <th>s20</th>\n",
              "      <th>s21</th>\n",
              "      <th>s22</th>\n",
              "      <th>s23</th>\n",
              "      <th>s24</th>\n",
              "      <th>s25</th>\n",
              "      <th>s26</th>\n",
              "      <th>s27</th>\n",
              "      <th>s28</th>\n",
              "      <th>s29</th>\n",
              "      <th>s30</th>\n",
              "      <th>s31</th>\n",
              "      <th>s32</th>\n",
              "      <th>s33</th>\n",
              "      <th>s34</th>\n",
              "      <th>s35</th>\n",
              "      <th>s36</th>\n",
              "      <th>s37</th>\n",
              "      <th>s38</th>\n",
              "      <th>s39</th>\n",
              "      <th>s40</th>\n",
              "      <th>s41</th>\n",
              "      <th>s42</th>\n",
              "      <th>s43</th>\n",
              "      <th>s44</th>\n",
              "      <th>s45</th>\n",
              "      <th>s46</th>\n",
              "      <th>s47</th>\n",
              "      <th>s48</th>\n",
              "      <th>s49</th>\n",
              "      <th>s50</th>\n",
              "      <th>s51</th>\n",
              "      <th>s52</th>\n",
              "    </tr>\n",
              "  </thead>\n",
              "  <tbody>\n",
              "    <tr>\n",
              "      <th>0</th>\n",
              "      <td>18.61</td>\n",
              "      <td>19.04</td>\n",
              "      <td>18.82</td>\n",
              "      <td>19.18</td>\n",
              "      <td>18.76</td>\n",
              "      <td>18.75</td>\n",
              "      <td>18.17</td>\n",
              "      <td>18.39</td>\n",
              "      <td>18.37</td>\n",
              "      <td>17.02</td>\n",
              "      <td>15.79</td>\n",
              "      <td>16.76</td>\n",
              "      <td>17.30</td>\n",
              "      <td>16.31</td>\n",
              "      <td>17.96</td>\n",
              "      <td>18.39</td>\n",
              "      <td>18.27</td>\n",
              "      <td>17.75</td>\n",
              "      <td>18.37</td>\n",
              "      <td>17.91</td>\n",
              "      <td>18.42</td>\n",
              "      <td>17.72</td>\n",
              "      <td>18.04</td>\n",
              "      <td>17.91</td>\n",
              "      <td>18.41</td>\n",
              "      <td>17.38</td>\n",
              "      <td>18.06</td>\n",
              "      <td>17.46</td>\n",
              "      <td>17.91</td>\n",
              "      <td>17.85</td>\n",
              "      <td>18.26</td>\n",
              "      <td>17.71</td>\n",
              "      <td>18.41</td>\n",
              "      <td>18.05</td>\n",
              "      <td>18.66</td>\n",
              "      <td>17.94</td>\n",
              "      <td>18.24</td>\n",
              "      <td>17.95</td>\n",
              "      <td>17.62</td>\n",
              "      <td>16.74</td>\n",
              "      <td>17.71</td>\n",
              "      <td>16.85</td>\n",
              "      <td>16.93</td>\n",
              "      <td>16.99</td>\n",
              "      <td>16.76</td>\n",
              "      <td>16.72</td>\n",
              "      <td>16.13</td>\n",
              "      <td>15.32</td>\n",
              "      <td>16.44</td>\n",
              "      <td>15.81</td>\n",
              "      <td>15.1</td>\n",
              "      <td>14.94</td>\n",
              "    </tr>\n",
              "    <tr>\n",
              "      <th>1</th>\n",
              "      <td>18.60</td>\n",
              "      <td>19.04</td>\n",
              "      <td>18.80</td>\n",
              "      <td>19.22</td>\n",
              "      <td>18.77</td>\n",
              "      <td>18.75</td>\n",
              "      <td>18.17</td>\n",
              "      <td>18.39</td>\n",
              "      <td>18.39</td>\n",
              "      <td>17.01</td>\n",
              "      <td>15.78</td>\n",
              "      <td>16.76</td>\n",
              "      <td>17.30</td>\n",
              "      <td>16.31</td>\n",
              "      <td>17.95</td>\n",
              "      <td>18.38</td>\n",
              "      <td>18.26</td>\n",
              "      <td>17.73</td>\n",
              "      <td>18.36</td>\n",
              "      <td>17.91</td>\n",
              "      <td>18.42</td>\n",
              "      <td>17.71</td>\n",
              "      <td>18.03</td>\n",
              "      <td>17.89</td>\n",
              "      <td>18.41</td>\n",
              "      <td>17.38</td>\n",
              "      <td>18.06</td>\n",
              "      <td>17.46</td>\n",
              "      <td>17.90</td>\n",
              "      <td>17.84</td>\n",
              "      <td>18.25</td>\n",
              "      <td>17.70</td>\n",
              "      <td>18.42</td>\n",
              "      <td>18.05</td>\n",
              "      <td>18.66</td>\n",
              "      <td>17.92</td>\n",
              "      <td>18.25</td>\n",
              "      <td>17.95</td>\n",
              "      <td>17.61</td>\n",
              "      <td>16.73</td>\n",
              "      <td>17.71</td>\n",
              "      <td>16.84</td>\n",
              "      <td>16.94</td>\n",
              "      <td>16.98</td>\n",
              "      <td>16.76</td>\n",
              "      <td>16.70</td>\n",
              "      <td>16.15</td>\n",
              "      <td>15.32</td>\n",
              "      <td>16.44</td>\n",
              "      <td>15.80</td>\n",
              "      <td>15.1</td>\n",
              "      <td>14.93</td>\n",
              "    </tr>\n",
              "    <tr>\n",
              "      <th>2</th>\n",
              "      <td>18.59</td>\n",
              "      <td>19.03</td>\n",
              "      <td>18.79</td>\n",
              "      <td>19.26</td>\n",
              "      <td>18.77</td>\n",
              "      <td>18.75</td>\n",
              "      <td>18.17</td>\n",
              "      <td>18.38</td>\n",
              "      <td>18.38</td>\n",
              "      <td>17.01</td>\n",
              "      <td>15.77</td>\n",
              "      <td>16.76</td>\n",
              "      <td>17.29</td>\n",
              "      <td>16.31</td>\n",
              "      <td>17.95</td>\n",
              "      <td>18.38</td>\n",
              "      <td>18.25</td>\n",
              "      <td>17.73</td>\n",
              "      <td>18.36</td>\n",
              "      <td>17.90</td>\n",
              "      <td>18.41</td>\n",
              "      <td>17.71</td>\n",
              "      <td>18.02</td>\n",
              "      <td>17.89</td>\n",
              "      <td>18.40</td>\n",
              "      <td>17.36</td>\n",
              "      <td>18.05</td>\n",
              "      <td>17.46</td>\n",
              "      <td>17.90</td>\n",
              "      <td>17.83</td>\n",
              "      <td>18.24</td>\n",
              "      <td>17.70</td>\n",
              "      <td>18.40</td>\n",
              "      <td>18.04</td>\n",
              "      <td>18.66</td>\n",
              "      <td>17.91</td>\n",
              "      <td>18.24</td>\n",
              "      <td>17.95</td>\n",
              "      <td>17.60</td>\n",
              "      <td>16.71</td>\n",
              "      <td>17.71</td>\n",
              "      <td>16.83</td>\n",
              "      <td>16.94</td>\n",
              "      <td>16.95</td>\n",
              "      <td>16.75</td>\n",
              "      <td>16.70</td>\n",
              "      <td>16.15</td>\n",
              "      <td>15.32</td>\n",
              "      <td>16.43</td>\n",
              "      <td>15.79</td>\n",
              "      <td>15.1</td>\n",
              "      <td>14.92</td>\n",
              "    </tr>\n",
              "    <tr>\n",
              "      <th>3</th>\n",
              "      <td>18.58</td>\n",
              "      <td>19.03</td>\n",
              "      <td>18.78</td>\n",
              "      <td>19.30</td>\n",
              "      <td>18.77</td>\n",
              "      <td>18.75</td>\n",
              "      <td>18.16</td>\n",
              "      <td>18.38</td>\n",
              "      <td>18.38</td>\n",
              "      <td>17.01</td>\n",
              "      <td>15.78</td>\n",
              "      <td>16.76</td>\n",
              "      <td>17.28</td>\n",
              "      <td>16.29</td>\n",
              "      <td>17.95</td>\n",
              "      <td>18.38</td>\n",
              "      <td>18.25</td>\n",
              "      <td>17.74</td>\n",
              "      <td>18.36</td>\n",
              "      <td>17.89</td>\n",
              "      <td>18.40</td>\n",
              "      <td>17.71</td>\n",
              "      <td>18.01</td>\n",
              "      <td>17.89</td>\n",
              "      <td>18.40</td>\n",
              "      <td>17.37</td>\n",
              "      <td>18.05</td>\n",
              "      <td>17.45</td>\n",
              "      <td>17.90</td>\n",
              "      <td>17.83</td>\n",
              "      <td>18.23</td>\n",
              "      <td>17.70</td>\n",
              "      <td>18.38</td>\n",
              "      <td>18.04</td>\n",
              "      <td>18.66</td>\n",
              "      <td>17.91</td>\n",
              "      <td>18.23</td>\n",
              "      <td>17.94</td>\n",
              "      <td>17.60</td>\n",
              "      <td>16.71</td>\n",
              "      <td>17.71</td>\n",
              "      <td>16.83</td>\n",
              "      <td>16.92</td>\n",
              "      <td>16.96</td>\n",
              "      <td>16.74</td>\n",
              "      <td>16.69</td>\n",
              "      <td>16.15</td>\n",
              "      <td>15.32</td>\n",
              "      <td>16.42</td>\n",
              "      <td>15.79</td>\n",
              "      <td>15.1</td>\n",
              "      <td>14.91</td>\n",
              "    </tr>\n",
              "    <tr>\n",
              "      <th>4</th>\n",
              "      <td>18.57</td>\n",
              "      <td>19.03</td>\n",
              "      <td>18.77</td>\n",
              "      <td>19.29</td>\n",
              "      <td>18.77</td>\n",
              "      <td>18.75</td>\n",
              "      <td>18.16</td>\n",
              "      <td>18.38</td>\n",
              "      <td>18.37</td>\n",
              "      <td>17.01</td>\n",
              "      <td>15.79</td>\n",
              "      <td>16.76</td>\n",
              "      <td>17.26</td>\n",
              "      <td>16.27</td>\n",
              "      <td>17.94</td>\n",
              "      <td>18.37</td>\n",
              "      <td>18.25</td>\n",
              "      <td>17.74</td>\n",
              "      <td>18.34</td>\n",
              "      <td>17.88</td>\n",
              "      <td>18.41</td>\n",
              "      <td>17.71</td>\n",
              "      <td>18.01</td>\n",
              "      <td>17.89</td>\n",
              "      <td>18.39</td>\n",
              "      <td>17.38</td>\n",
              "      <td>18.05</td>\n",
              "      <td>17.45</td>\n",
              "      <td>17.91</td>\n",
              "      <td>17.82</td>\n",
              "      <td>18.22</td>\n",
              "      <td>17.70</td>\n",
              "      <td>18.38</td>\n",
              "      <td>18.03</td>\n",
              "      <td>18.66</td>\n",
              "      <td>17.90</td>\n",
              "      <td>18.22</td>\n",
              "      <td>17.92</td>\n",
              "      <td>17.57</td>\n",
              "      <td>16.71</td>\n",
              "      <td>17.70</td>\n",
              "      <td>16.82</td>\n",
              "      <td>16.93</td>\n",
              "      <td>16.97</td>\n",
              "      <td>16.73</td>\n",
              "      <td>16.68</td>\n",
              "      <td>16.12</td>\n",
              "      <td>15.32</td>\n",
              "      <td>16.42</td>\n",
              "      <td>15.78</td>\n",
              "      <td>15.1</td>\n",
              "      <td>14.90</td>\n",
              "    </tr>\n",
              "  </tbody>\n",
              "</table>\n",
              "</div>"
            ],
            "text/plain": [
              "      s1     s2     s3     s4     s5     s6     s7     s8     s9    s10  \\\n",
              "0  18.61  19.04  18.82  19.18  18.76  18.75  18.17  18.39  18.37  17.02   \n",
              "1  18.60  19.04  18.80  19.22  18.77  18.75  18.17  18.39  18.39  17.01   \n",
              "2  18.59  19.03  18.79  19.26  18.77  18.75  18.17  18.38  18.38  17.01   \n",
              "3  18.58  19.03  18.78  19.30  18.77  18.75  18.16  18.38  18.38  17.01   \n",
              "4  18.57  19.03  18.77  19.29  18.77  18.75  18.16  18.38  18.37  17.01   \n",
              "\n",
              "     s11    s12    s13    s14    s15    s16    s17    s18    s19    s20  \\\n",
              "0  15.79  16.76  17.30  16.31  17.96  18.39  18.27  17.75  18.37  17.91   \n",
              "1  15.78  16.76  17.30  16.31  17.95  18.38  18.26  17.73  18.36  17.91   \n",
              "2  15.77  16.76  17.29  16.31  17.95  18.38  18.25  17.73  18.36  17.90   \n",
              "3  15.78  16.76  17.28  16.29  17.95  18.38  18.25  17.74  18.36  17.89   \n",
              "4  15.79  16.76  17.26  16.27  17.94  18.37  18.25  17.74  18.34  17.88   \n",
              "\n",
              "     s21    s22    s23    s24    s25    s26    s27    s28    s29    s30  \\\n",
              "0  18.42  17.72  18.04  17.91  18.41  17.38  18.06  17.46  17.91  17.85   \n",
              "1  18.42  17.71  18.03  17.89  18.41  17.38  18.06  17.46  17.90  17.84   \n",
              "2  18.41  17.71  18.02  17.89  18.40  17.36  18.05  17.46  17.90  17.83   \n",
              "3  18.40  17.71  18.01  17.89  18.40  17.37  18.05  17.45  17.90  17.83   \n",
              "4  18.41  17.71  18.01  17.89  18.39  17.38  18.05  17.45  17.91  17.82   \n",
              "\n",
              "     s31    s32    s33    s34    s35    s36    s37    s38    s39    s40  \\\n",
              "0  18.26  17.71  18.41  18.05  18.66  17.94  18.24  17.95  17.62  16.74   \n",
              "1  18.25  17.70  18.42  18.05  18.66  17.92  18.25  17.95  17.61  16.73   \n",
              "2  18.24  17.70  18.40  18.04  18.66  17.91  18.24  17.95  17.60  16.71   \n",
              "3  18.23  17.70  18.38  18.04  18.66  17.91  18.23  17.94  17.60  16.71   \n",
              "4  18.22  17.70  18.38  18.03  18.66  17.90  18.22  17.92  17.57  16.71   \n",
              "\n",
              "     s41    s42    s43    s44    s45    s46    s47    s48    s49    s50   s51  \\\n",
              "0  17.71  16.85  16.93  16.99  16.76  16.72  16.13  15.32  16.44  15.81  15.1   \n",
              "1  17.71  16.84  16.94  16.98  16.76  16.70  16.15  15.32  16.44  15.80  15.1   \n",
              "2  17.71  16.83  16.94  16.95  16.75  16.70  16.15  15.32  16.43  15.79  15.1   \n",
              "3  17.71  16.83  16.92  16.96  16.74  16.69  16.15  15.32  16.42  15.79  15.1   \n",
              "4  17.70  16.82  16.93  16.97  16.73  16.68  16.12  15.32  16.42  15.78  15.1   \n",
              "\n",
              "     s52  \n",
              "0  14.94  \n",
              "1  14.93  \n",
              "2  14.92  \n",
              "3  14.91  \n",
              "4  14.90  "
            ]
          },
          "metadata": {
            "tags": []
          },
          "execution_count": 1
        }
      ]
    },
    {
      "cell_type": "code",
      "metadata": {
        "colab": {
          "base_uri": "https://localhost:8080/",
          "height": 218
        },
        "id": "_UmOltECgU3y",
        "outputId": "1b028545-a108-4940-ecfb-3603eba24b28"
      },
      "source": [
        "y=X['s52']\n",
        "X=X.drop(columns=['s52'])\n",
        "X.head()\n"
      ],
      "execution_count": 2,
      "outputs": [
        {
          "output_type": "execute_result",
          "data": {
            "text/html": [
              "<div>\n",
              "<style scoped>\n",
              "    .dataframe tbody tr th:only-of-type {\n",
              "        vertical-align: middle;\n",
              "    }\n",
              "\n",
              "    .dataframe tbody tr th {\n",
              "        vertical-align: top;\n",
              "    }\n",
              "\n",
              "    .dataframe thead th {\n",
              "        text-align: right;\n",
              "    }\n",
              "</style>\n",
              "<table border=\"1\" class=\"dataframe\">\n",
              "  <thead>\n",
              "    <tr style=\"text-align: right;\">\n",
              "      <th></th>\n",
              "      <th>s1</th>\n",
              "      <th>s2</th>\n",
              "      <th>s3</th>\n",
              "      <th>s4</th>\n",
              "      <th>s5</th>\n",
              "      <th>s6</th>\n",
              "      <th>s7</th>\n",
              "      <th>s8</th>\n",
              "      <th>s9</th>\n",
              "      <th>s10</th>\n",
              "      <th>s11</th>\n",
              "      <th>s12</th>\n",
              "      <th>s13</th>\n",
              "      <th>s14</th>\n",
              "      <th>s15</th>\n",
              "      <th>s16</th>\n",
              "      <th>s17</th>\n",
              "      <th>s18</th>\n",
              "      <th>s19</th>\n",
              "      <th>s20</th>\n",
              "      <th>s21</th>\n",
              "      <th>s22</th>\n",
              "      <th>s23</th>\n",
              "      <th>s24</th>\n",
              "      <th>s25</th>\n",
              "      <th>s26</th>\n",
              "      <th>s27</th>\n",
              "      <th>s28</th>\n",
              "      <th>s29</th>\n",
              "      <th>s30</th>\n",
              "      <th>s31</th>\n",
              "      <th>s32</th>\n",
              "      <th>s33</th>\n",
              "      <th>s34</th>\n",
              "      <th>s35</th>\n",
              "      <th>s36</th>\n",
              "      <th>s37</th>\n",
              "      <th>s38</th>\n",
              "      <th>s39</th>\n",
              "      <th>s40</th>\n",
              "      <th>s41</th>\n",
              "      <th>s42</th>\n",
              "      <th>s43</th>\n",
              "      <th>s44</th>\n",
              "      <th>s45</th>\n",
              "      <th>s46</th>\n",
              "      <th>s47</th>\n",
              "      <th>s48</th>\n",
              "      <th>s49</th>\n",
              "      <th>s50</th>\n",
              "      <th>s51</th>\n",
              "    </tr>\n",
              "  </thead>\n",
              "  <tbody>\n",
              "    <tr>\n",
              "      <th>0</th>\n",
              "      <td>18.61</td>\n",
              "      <td>19.04</td>\n",
              "      <td>18.82</td>\n",
              "      <td>19.18</td>\n",
              "      <td>18.76</td>\n",
              "      <td>18.75</td>\n",
              "      <td>18.17</td>\n",
              "      <td>18.39</td>\n",
              "      <td>18.37</td>\n",
              "      <td>17.02</td>\n",
              "      <td>15.79</td>\n",
              "      <td>16.76</td>\n",
              "      <td>17.30</td>\n",
              "      <td>16.31</td>\n",
              "      <td>17.96</td>\n",
              "      <td>18.39</td>\n",
              "      <td>18.27</td>\n",
              "      <td>17.75</td>\n",
              "      <td>18.37</td>\n",
              "      <td>17.91</td>\n",
              "      <td>18.42</td>\n",
              "      <td>17.72</td>\n",
              "      <td>18.04</td>\n",
              "      <td>17.91</td>\n",
              "      <td>18.41</td>\n",
              "      <td>17.38</td>\n",
              "      <td>18.06</td>\n",
              "      <td>17.46</td>\n",
              "      <td>17.91</td>\n",
              "      <td>17.85</td>\n",
              "      <td>18.26</td>\n",
              "      <td>17.71</td>\n",
              "      <td>18.41</td>\n",
              "      <td>18.05</td>\n",
              "      <td>18.66</td>\n",
              "      <td>17.94</td>\n",
              "      <td>18.24</td>\n",
              "      <td>17.95</td>\n",
              "      <td>17.62</td>\n",
              "      <td>16.74</td>\n",
              "      <td>17.71</td>\n",
              "      <td>16.85</td>\n",
              "      <td>16.93</td>\n",
              "      <td>16.99</td>\n",
              "      <td>16.76</td>\n",
              "      <td>16.72</td>\n",
              "      <td>16.13</td>\n",
              "      <td>15.32</td>\n",
              "      <td>16.44</td>\n",
              "      <td>15.81</td>\n",
              "      <td>15.1</td>\n",
              "    </tr>\n",
              "    <tr>\n",
              "      <th>1</th>\n",
              "      <td>18.60</td>\n",
              "      <td>19.04</td>\n",
              "      <td>18.80</td>\n",
              "      <td>19.22</td>\n",
              "      <td>18.77</td>\n",
              "      <td>18.75</td>\n",
              "      <td>18.17</td>\n",
              "      <td>18.39</td>\n",
              "      <td>18.39</td>\n",
              "      <td>17.01</td>\n",
              "      <td>15.78</td>\n",
              "      <td>16.76</td>\n",
              "      <td>17.30</td>\n",
              "      <td>16.31</td>\n",
              "      <td>17.95</td>\n",
              "      <td>18.38</td>\n",
              "      <td>18.26</td>\n",
              "      <td>17.73</td>\n",
              "      <td>18.36</td>\n",
              "      <td>17.91</td>\n",
              "      <td>18.42</td>\n",
              "      <td>17.71</td>\n",
              "      <td>18.03</td>\n",
              "      <td>17.89</td>\n",
              "      <td>18.41</td>\n",
              "      <td>17.38</td>\n",
              "      <td>18.06</td>\n",
              "      <td>17.46</td>\n",
              "      <td>17.90</td>\n",
              "      <td>17.84</td>\n",
              "      <td>18.25</td>\n",
              "      <td>17.70</td>\n",
              "      <td>18.42</td>\n",
              "      <td>18.05</td>\n",
              "      <td>18.66</td>\n",
              "      <td>17.92</td>\n",
              "      <td>18.25</td>\n",
              "      <td>17.95</td>\n",
              "      <td>17.61</td>\n",
              "      <td>16.73</td>\n",
              "      <td>17.71</td>\n",
              "      <td>16.84</td>\n",
              "      <td>16.94</td>\n",
              "      <td>16.98</td>\n",
              "      <td>16.76</td>\n",
              "      <td>16.70</td>\n",
              "      <td>16.15</td>\n",
              "      <td>15.32</td>\n",
              "      <td>16.44</td>\n",
              "      <td>15.80</td>\n",
              "      <td>15.1</td>\n",
              "    </tr>\n",
              "    <tr>\n",
              "      <th>2</th>\n",
              "      <td>18.59</td>\n",
              "      <td>19.03</td>\n",
              "      <td>18.79</td>\n",
              "      <td>19.26</td>\n",
              "      <td>18.77</td>\n",
              "      <td>18.75</td>\n",
              "      <td>18.17</td>\n",
              "      <td>18.38</td>\n",
              "      <td>18.38</td>\n",
              "      <td>17.01</td>\n",
              "      <td>15.77</td>\n",
              "      <td>16.76</td>\n",
              "      <td>17.29</td>\n",
              "      <td>16.31</td>\n",
              "      <td>17.95</td>\n",
              "      <td>18.38</td>\n",
              "      <td>18.25</td>\n",
              "      <td>17.73</td>\n",
              "      <td>18.36</td>\n",
              "      <td>17.90</td>\n",
              "      <td>18.41</td>\n",
              "      <td>17.71</td>\n",
              "      <td>18.02</td>\n",
              "      <td>17.89</td>\n",
              "      <td>18.40</td>\n",
              "      <td>17.36</td>\n",
              "      <td>18.05</td>\n",
              "      <td>17.46</td>\n",
              "      <td>17.90</td>\n",
              "      <td>17.83</td>\n",
              "      <td>18.24</td>\n",
              "      <td>17.70</td>\n",
              "      <td>18.40</td>\n",
              "      <td>18.04</td>\n",
              "      <td>18.66</td>\n",
              "      <td>17.91</td>\n",
              "      <td>18.24</td>\n",
              "      <td>17.95</td>\n",
              "      <td>17.60</td>\n",
              "      <td>16.71</td>\n",
              "      <td>17.71</td>\n",
              "      <td>16.83</td>\n",
              "      <td>16.94</td>\n",
              "      <td>16.95</td>\n",
              "      <td>16.75</td>\n",
              "      <td>16.70</td>\n",
              "      <td>16.15</td>\n",
              "      <td>15.32</td>\n",
              "      <td>16.43</td>\n",
              "      <td>15.79</td>\n",
              "      <td>15.1</td>\n",
              "    </tr>\n",
              "    <tr>\n",
              "      <th>3</th>\n",
              "      <td>18.58</td>\n",
              "      <td>19.03</td>\n",
              "      <td>18.78</td>\n",
              "      <td>19.30</td>\n",
              "      <td>18.77</td>\n",
              "      <td>18.75</td>\n",
              "      <td>18.16</td>\n",
              "      <td>18.38</td>\n",
              "      <td>18.38</td>\n",
              "      <td>17.01</td>\n",
              "      <td>15.78</td>\n",
              "      <td>16.76</td>\n",
              "      <td>17.28</td>\n",
              "      <td>16.29</td>\n",
              "      <td>17.95</td>\n",
              "      <td>18.38</td>\n",
              "      <td>18.25</td>\n",
              "      <td>17.74</td>\n",
              "      <td>18.36</td>\n",
              "      <td>17.89</td>\n",
              "      <td>18.40</td>\n",
              "      <td>17.71</td>\n",
              "      <td>18.01</td>\n",
              "      <td>17.89</td>\n",
              "      <td>18.40</td>\n",
              "      <td>17.37</td>\n",
              "      <td>18.05</td>\n",
              "      <td>17.45</td>\n",
              "      <td>17.90</td>\n",
              "      <td>17.83</td>\n",
              "      <td>18.23</td>\n",
              "      <td>17.70</td>\n",
              "      <td>18.38</td>\n",
              "      <td>18.04</td>\n",
              "      <td>18.66</td>\n",
              "      <td>17.91</td>\n",
              "      <td>18.23</td>\n",
              "      <td>17.94</td>\n",
              "      <td>17.60</td>\n",
              "      <td>16.71</td>\n",
              "      <td>17.71</td>\n",
              "      <td>16.83</td>\n",
              "      <td>16.92</td>\n",
              "      <td>16.96</td>\n",
              "      <td>16.74</td>\n",
              "      <td>16.69</td>\n",
              "      <td>16.15</td>\n",
              "      <td>15.32</td>\n",
              "      <td>16.42</td>\n",
              "      <td>15.79</td>\n",
              "      <td>15.1</td>\n",
              "    </tr>\n",
              "    <tr>\n",
              "      <th>4</th>\n",
              "      <td>18.57</td>\n",
              "      <td>19.03</td>\n",
              "      <td>18.77</td>\n",
              "      <td>19.29</td>\n",
              "      <td>18.77</td>\n",
              "      <td>18.75</td>\n",
              "      <td>18.16</td>\n",
              "      <td>18.38</td>\n",
              "      <td>18.37</td>\n",
              "      <td>17.01</td>\n",
              "      <td>15.79</td>\n",
              "      <td>16.76</td>\n",
              "      <td>17.26</td>\n",
              "      <td>16.27</td>\n",
              "      <td>17.94</td>\n",
              "      <td>18.37</td>\n",
              "      <td>18.25</td>\n",
              "      <td>17.74</td>\n",
              "      <td>18.34</td>\n",
              "      <td>17.88</td>\n",
              "      <td>18.41</td>\n",
              "      <td>17.71</td>\n",
              "      <td>18.01</td>\n",
              "      <td>17.89</td>\n",
              "      <td>18.39</td>\n",
              "      <td>17.38</td>\n",
              "      <td>18.05</td>\n",
              "      <td>17.45</td>\n",
              "      <td>17.91</td>\n",
              "      <td>17.82</td>\n",
              "      <td>18.22</td>\n",
              "      <td>17.70</td>\n",
              "      <td>18.38</td>\n",
              "      <td>18.03</td>\n",
              "      <td>18.66</td>\n",
              "      <td>17.90</td>\n",
              "      <td>18.22</td>\n",
              "      <td>17.92</td>\n",
              "      <td>17.57</td>\n",
              "      <td>16.71</td>\n",
              "      <td>17.70</td>\n",
              "      <td>16.82</td>\n",
              "      <td>16.93</td>\n",
              "      <td>16.97</td>\n",
              "      <td>16.73</td>\n",
              "      <td>16.68</td>\n",
              "      <td>16.12</td>\n",
              "      <td>15.32</td>\n",
              "      <td>16.42</td>\n",
              "      <td>15.78</td>\n",
              "      <td>15.1</td>\n",
              "    </tr>\n",
              "  </tbody>\n",
              "</table>\n",
              "</div>"
            ],
            "text/plain": [
              "      s1     s2     s3     s4     s5     s6     s7     s8     s9    s10  \\\n",
              "0  18.61  19.04  18.82  19.18  18.76  18.75  18.17  18.39  18.37  17.02   \n",
              "1  18.60  19.04  18.80  19.22  18.77  18.75  18.17  18.39  18.39  17.01   \n",
              "2  18.59  19.03  18.79  19.26  18.77  18.75  18.17  18.38  18.38  17.01   \n",
              "3  18.58  19.03  18.78  19.30  18.77  18.75  18.16  18.38  18.38  17.01   \n",
              "4  18.57  19.03  18.77  19.29  18.77  18.75  18.16  18.38  18.37  17.01   \n",
              "\n",
              "     s11    s12    s13    s14    s15    s16    s17    s18    s19    s20  \\\n",
              "0  15.79  16.76  17.30  16.31  17.96  18.39  18.27  17.75  18.37  17.91   \n",
              "1  15.78  16.76  17.30  16.31  17.95  18.38  18.26  17.73  18.36  17.91   \n",
              "2  15.77  16.76  17.29  16.31  17.95  18.38  18.25  17.73  18.36  17.90   \n",
              "3  15.78  16.76  17.28  16.29  17.95  18.38  18.25  17.74  18.36  17.89   \n",
              "4  15.79  16.76  17.26  16.27  17.94  18.37  18.25  17.74  18.34  17.88   \n",
              "\n",
              "     s21    s22    s23    s24    s25    s26    s27    s28    s29    s30  \\\n",
              "0  18.42  17.72  18.04  17.91  18.41  17.38  18.06  17.46  17.91  17.85   \n",
              "1  18.42  17.71  18.03  17.89  18.41  17.38  18.06  17.46  17.90  17.84   \n",
              "2  18.41  17.71  18.02  17.89  18.40  17.36  18.05  17.46  17.90  17.83   \n",
              "3  18.40  17.71  18.01  17.89  18.40  17.37  18.05  17.45  17.90  17.83   \n",
              "4  18.41  17.71  18.01  17.89  18.39  17.38  18.05  17.45  17.91  17.82   \n",
              "\n",
              "     s31    s32    s33    s34    s35    s36    s37    s38    s39    s40  \\\n",
              "0  18.26  17.71  18.41  18.05  18.66  17.94  18.24  17.95  17.62  16.74   \n",
              "1  18.25  17.70  18.42  18.05  18.66  17.92  18.25  17.95  17.61  16.73   \n",
              "2  18.24  17.70  18.40  18.04  18.66  17.91  18.24  17.95  17.60  16.71   \n",
              "3  18.23  17.70  18.38  18.04  18.66  17.91  18.23  17.94  17.60  16.71   \n",
              "4  18.22  17.70  18.38  18.03  18.66  17.90  18.22  17.92  17.57  16.71   \n",
              "\n",
              "     s41    s42    s43    s44    s45    s46    s47    s48    s49    s50   s51  \n",
              "0  17.71  16.85  16.93  16.99  16.76  16.72  16.13  15.32  16.44  15.81  15.1  \n",
              "1  17.71  16.84  16.94  16.98  16.76  16.70  16.15  15.32  16.44  15.80  15.1  \n",
              "2  17.71  16.83  16.94  16.95  16.75  16.70  16.15  15.32  16.43  15.79  15.1  \n",
              "3  17.71  16.83  16.92  16.96  16.74  16.69  16.15  15.32  16.42  15.79  15.1  \n",
              "4  17.70  16.82  16.93  16.97  16.73  16.68  16.12  15.32  16.42  15.78  15.1  "
            ]
          },
          "metadata": {
            "tags": []
          },
          "execution_count": 2
        }
      ]
    },
    {
      "cell_type": "code",
      "metadata": {
        "colab": {
          "base_uri": "https://localhost:8080/",
          "height": 218
        },
        "id": "TnBvC4uwg2OO",
        "outputId": "37f5d9f6-db44-4af5-b141-f6684a6a7b9e"
      },
      "source": [
        "from sklearn.preprocessing import MinMaxScaler\n",
        "min_max=MinMaxScaler()\n",
        "X2=X.copy()\n",
        "cols=X2.columns\n",
        "data1=min_max.fit_transform(X2.values)\n",
        "X2=pd.DataFrame(data=data1,columns=cols)\n",
        "X2.head()"
      ],
      "execution_count": 3,
      "outputs": [
        {
          "output_type": "execute_result",
          "data": {
            "text/html": [
              "<div>\n",
              "<style scoped>\n",
              "    .dataframe tbody tr th:only-of-type {\n",
              "        vertical-align: middle;\n",
              "    }\n",
              "\n",
              "    .dataframe tbody tr th {\n",
              "        vertical-align: top;\n",
              "    }\n",
              "\n",
              "    .dataframe thead th {\n",
              "        text-align: right;\n",
              "    }\n",
              "</style>\n",
              "<table border=\"1\" class=\"dataframe\">\n",
              "  <thead>\n",
              "    <tr style=\"text-align: right;\">\n",
              "      <th></th>\n",
              "      <th>s1</th>\n",
              "      <th>s2</th>\n",
              "      <th>s3</th>\n",
              "      <th>s4</th>\n",
              "      <th>s5</th>\n",
              "      <th>s6</th>\n",
              "      <th>s7</th>\n",
              "      <th>s8</th>\n",
              "      <th>s9</th>\n",
              "      <th>s10</th>\n",
              "      <th>s11</th>\n",
              "      <th>s12</th>\n",
              "      <th>s13</th>\n",
              "      <th>s14</th>\n",
              "      <th>s15</th>\n",
              "      <th>s16</th>\n",
              "      <th>s17</th>\n",
              "      <th>s18</th>\n",
              "      <th>s19</th>\n",
              "      <th>s20</th>\n",
              "      <th>s21</th>\n",
              "      <th>s22</th>\n",
              "      <th>s23</th>\n",
              "      <th>s24</th>\n",
              "      <th>s25</th>\n",
              "      <th>s26</th>\n",
              "      <th>s27</th>\n",
              "      <th>s28</th>\n",
              "      <th>s29</th>\n",
              "      <th>s30</th>\n",
              "      <th>s31</th>\n",
              "      <th>s32</th>\n",
              "      <th>s33</th>\n",
              "      <th>s34</th>\n",
              "      <th>s35</th>\n",
              "      <th>s36</th>\n",
              "      <th>s37</th>\n",
              "      <th>s38</th>\n",
              "      <th>s39</th>\n",
              "      <th>s40</th>\n",
              "      <th>s41</th>\n",
              "      <th>s42</th>\n",
              "      <th>s43</th>\n",
              "      <th>s44</th>\n",
              "      <th>s45</th>\n",
              "      <th>s46</th>\n",
              "      <th>s47</th>\n",
              "      <th>s48</th>\n",
              "      <th>s49</th>\n",
              "      <th>s50</th>\n",
              "      <th>s51</th>\n",
              "    </tr>\n",
              "  </thead>\n",
              "  <tbody>\n",
              "    <tr>\n",
              "      <th>0</th>\n",
              "      <td>0.129259</td>\n",
              "      <td>0.145735</td>\n",
              "      <td>0.136714</td>\n",
              "      <td>0.133412</td>\n",
              "      <td>0.134817</td>\n",
              "      <td>0.118622</td>\n",
              "      <td>0.578868</td>\n",
              "      <td>0.091753</td>\n",
              "      <td>0.102273</td>\n",
              "      <td>0.098662</td>\n",
              "      <td>0.079812</td>\n",
              "      <td>0.091091</td>\n",
              "      <td>0.131783</td>\n",
              "      <td>0.520539</td>\n",
              "      <td>0.613598</td>\n",
              "      <td>0.646888</td>\n",
              "      <td>0.128268</td>\n",
              "      <td>0.554981</td>\n",
              "      <td>0.086129</td>\n",
              "      <td>0.089286</td>\n",
              "      <td>0.238197</td>\n",
              "      <td>0.467206</td>\n",
              "      <td>0.084729</td>\n",
              "      <td>0.097230</td>\n",
              "      <td>0.101781</td>\n",
              "      <td>0.091703</td>\n",
              "      <td>0.096475</td>\n",
              "      <td>0.079466</td>\n",
              "      <td>0.085133</td>\n",
              "      <td>0.486084</td>\n",
              "      <td>0.112971</td>\n",
              "      <td>0.097015</td>\n",
              "      <td>0.104326</td>\n",
              "      <td>0.094687</td>\n",
              "      <td>0.118333</td>\n",
              "      <td>0.118321</td>\n",
              "      <td>0.127025</td>\n",
              "      <td>0.093128</td>\n",
              "      <td>0.094844</td>\n",
              "      <td>0.096598</td>\n",
              "      <td>0.095035</td>\n",
              "      <td>0.096440</td>\n",
              "      <td>0.098221</td>\n",
              "      <td>0.101186</td>\n",
              "      <td>0.096729</td>\n",
              "      <td>0.1080</td>\n",
              "      <td>0.096275</td>\n",
              "      <td>0.099366</td>\n",
              "      <td>0.086671</td>\n",
              "      <td>0.091179</td>\n",
              "      <td>0.111727</td>\n",
              "    </tr>\n",
              "    <tr>\n",
              "      <th>1</th>\n",
              "      <td>0.128257</td>\n",
              "      <td>0.145735</td>\n",
              "      <td>0.134509</td>\n",
              "      <td>0.138135</td>\n",
              "      <td>0.136126</td>\n",
              "      <td>0.118622</td>\n",
              "      <td>0.578868</td>\n",
              "      <td>0.091753</td>\n",
              "      <td>0.104798</td>\n",
              "      <td>0.097826</td>\n",
              "      <td>0.079030</td>\n",
              "      <td>0.091091</td>\n",
              "      <td>0.131783</td>\n",
              "      <td>0.520539</td>\n",
              "      <td>0.613256</td>\n",
              "      <td>0.646523</td>\n",
              "      <td>0.127451</td>\n",
              "      <td>0.554334</td>\n",
              "      <td>0.085628</td>\n",
              "      <td>0.089286</td>\n",
              "      <td>0.238197</td>\n",
              "      <td>0.466917</td>\n",
              "      <td>0.084236</td>\n",
              "      <td>0.096052</td>\n",
              "      <td>0.101781</td>\n",
              "      <td>0.091703</td>\n",
              "      <td>0.096475</td>\n",
              "      <td>0.079466</td>\n",
              "      <td>0.084498</td>\n",
              "      <td>0.485761</td>\n",
              "      <td>0.112134</td>\n",
              "      <td>0.096269</td>\n",
              "      <td>0.105174</td>\n",
              "      <td>0.094687</td>\n",
              "      <td>0.118333</td>\n",
              "      <td>0.116794</td>\n",
              "      <td>0.127877</td>\n",
              "      <td>0.093128</td>\n",
              "      <td>0.094208</td>\n",
              "      <td>0.095990</td>\n",
              "      <td>0.095035</td>\n",
              "      <td>0.095793</td>\n",
              "      <td>0.098932</td>\n",
              "      <td>0.100488</td>\n",
              "      <td>0.096729</td>\n",
              "      <td>0.1064</td>\n",
              "      <td>0.097681</td>\n",
              "      <td>0.099366</td>\n",
              "      <td>0.086671</td>\n",
              "      <td>0.090437</td>\n",
              "      <td>0.111727</td>\n",
              "    </tr>\n",
              "    <tr>\n",
              "      <th>2</th>\n",
              "      <td>0.127255</td>\n",
              "      <td>0.144550</td>\n",
              "      <td>0.133407</td>\n",
              "      <td>0.142857</td>\n",
              "      <td>0.136126</td>\n",
              "      <td>0.118622</td>\n",
              "      <td>0.578868</td>\n",
              "      <td>0.090722</td>\n",
              "      <td>0.103535</td>\n",
              "      <td>0.097826</td>\n",
              "      <td>0.078247</td>\n",
              "      <td>0.091091</td>\n",
              "      <td>0.130922</td>\n",
              "      <td>0.520539</td>\n",
              "      <td>0.613256</td>\n",
              "      <td>0.646523</td>\n",
              "      <td>0.126634</td>\n",
              "      <td>0.554334</td>\n",
              "      <td>0.085628</td>\n",
              "      <td>0.088728</td>\n",
              "      <td>0.237661</td>\n",
              "      <td>0.466917</td>\n",
              "      <td>0.083744</td>\n",
              "      <td>0.096052</td>\n",
              "      <td>0.101145</td>\n",
              "      <td>0.090611</td>\n",
              "      <td>0.095857</td>\n",
              "      <td>0.079466</td>\n",
              "      <td>0.084498</td>\n",
              "      <td>0.485437</td>\n",
              "      <td>0.111297</td>\n",
              "      <td>0.096269</td>\n",
              "      <td>0.103478</td>\n",
              "      <td>0.094005</td>\n",
              "      <td>0.118333</td>\n",
              "      <td>0.116031</td>\n",
              "      <td>0.127025</td>\n",
              "      <td>0.093128</td>\n",
              "      <td>0.093571</td>\n",
              "      <td>0.094775</td>\n",
              "      <td>0.095035</td>\n",
              "      <td>0.095146</td>\n",
              "      <td>0.098932</td>\n",
              "      <td>0.098395</td>\n",
              "      <td>0.096033</td>\n",
              "      <td>0.1064</td>\n",
              "      <td>0.097681</td>\n",
              "      <td>0.099366</td>\n",
              "      <td>0.086014</td>\n",
              "      <td>0.089696</td>\n",
              "      <td>0.111727</td>\n",
              "    </tr>\n",
              "    <tr>\n",
              "      <th>3</th>\n",
              "      <td>0.126253</td>\n",
              "      <td>0.144550</td>\n",
              "      <td>0.132304</td>\n",
              "      <td>0.147580</td>\n",
              "      <td>0.136126</td>\n",
              "      <td>0.118622</td>\n",
              "      <td>0.578362</td>\n",
              "      <td>0.090722</td>\n",
              "      <td>0.103535</td>\n",
              "      <td>0.097826</td>\n",
              "      <td>0.079030</td>\n",
              "      <td>0.091091</td>\n",
              "      <td>0.130060</td>\n",
              "      <td>0.519882</td>\n",
              "      <td>0.613256</td>\n",
              "      <td>0.646523</td>\n",
              "      <td>0.126634</td>\n",
              "      <td>0.554657</td>\n",
              "      <td>0.085628</td>\n",
              "      <td>0.088170</td>\n",
              "      <td>0.237124</td>\n",
              "      <td>0.466917</td>\n",
              "      <td>0.083251</td>\n",
              "      <td>0.096052</td>\n",
              "      <td>0.101145</td>\n",
              "      <td>0.091157</td>\n",
              "      <td>0.095857</td>\n",
              "      <td>0.078886</td>\n",
              "      <td>0.084498</td>\n",
              "      <td>0.485437</td>\n",
              "      <td>0.110460</td>\n",
              "      <td>0.096269</td>\n",
              "      <td>0.101781</td>\n",
              "      <td>0.094005</td>\n",
              "      <td>0.118333</td>\n",
              "      <td>0.116031</td>\n",
              "      <td>0.126172</td>\n",
              "      <td>0.092486</td>\n",
              "      <td>0.093571</td>\n",
              "      <td>0.094775</td>\n",
              "      <td>0.095035</td>\n",
              "      <td>0.095146</td>\n",
              "      <td>0.097509</td>\n",
              "      <td>0.099093</td>\n",
              "      <td>0.095338</td>\n",
              "      <td>0.1056</td>\n",
              "      <td>0.097681</td>\n",
              "      <td>0.099366</td>\n",
              "      <td>0.085358</td>\n",
              "      <td>0.089696</td>\n",
              "      <td>0.111727</td>\n",
              "    </tr>\n",
              "    <tr>\n",
              "      <th>4</th>\n",
              "      <td>0.125251</td>\n",
              "      <td>0.144550</td>\n",
              "      <td>0.131202</td>\n",
              "      <td>0.146399</td>\n",
              "      <td>0.136126</td>\n",
              "      <td>0.118622</td>\n",
              "      <td>0.578362</td>\n",
              "      <td>0.090722</td>\n",
              "      <td>0.102273</td>\n",
              "      <td>0.097826</td>\n",
              "      <td>0.079812</td>\n",
              "      <td>0.091091</td>\n",
              "      <td>0.128338</td>\n",
              "      <td>0.519224</td>\n",
              "      <td>0.612914</td>\n",
              "      <td>0.646159</td>\n",
              "      <td>0.126634</td>\n",
              "      <td>0.554657</td>\n",
              "      <td>0.084627</td>\n",
              "      <td>0.087612</td>\n",
              "      <td>0.237661</td>\n",
              "      <td>0.466917</td>\n",
              "      <td>0.083251</td>\n",
              "      <td>0.096052</td>\n",
              "      <td>0.100509</td>\n",
              "      <td>0.091703</td>\n",
              "      <td>0.095857</td>\n",
              "      <td>0.078886</td>\n",
              "      <td>0.085133</td>\n",
              "      <td>0.485113</td>\n",
              "      <td>0.109623</td>\n",
              "      <td>0.096269</td>\n",
              "      <td>0.101781</td>\n",
              "      <td>0.093324</td>\n",
              "      <td>0.118333</td>\n",
              "      <td>0.115267</td>\n",
              "      <td>0.125320</td>\n",
              "      <td>0.091201</td>\n",
              "      <td>0.091661</td>\n",
              "      <td>0.094775</td>\n",
              "      <td>0.094326</td>\n",
              "      <td>0.094498</td>\n",
              "      <td>0.098221</td>\n",
              "      <td>0.099791</td>\n",
              "      <td>0.094642</td>\n",
              "      <td>0.1048</td>\n",
              "      <td>0.095573</td>\n",
              "      <td>0.099366</td>\n",
              "      <td>0.085358</td>\n",
              "      <td>0.088955</td>\n",
              "      <td>0.111727</td>\n",
              "    </tr>\n",
              "  </tbody>\n",
              "</table>\n",
              "</div>"
            ],
            "text/plain": [
              "         s1        s2        s3        s4        s5        s6        s7  \\\n",
              "0  0.129259  0.145735  0.136714  0.133412  0.134817  0.118622  0.578868   \n",
              "1  0.128257  0.145735  0.134509  0.138135  0.136126  0.118622  0.578868   \n",
              "2  0.127255  0.144550  0.133407  0.142857  0.136126  0.118622  0.578868   \n",
              "3  0.126253  0.144550  0.132304  0.147580  0.136126  0.118622  0.578362   \n",
              "4  0.125251  0.144550  0.131202  0.146399  0.136126  0.118622  0.578362   \n",
              "\n",
              "         s8        s9       s10       s11       s12       s13       s14  \\\n",
              "0  0.091753  0.102273  0.098662  0.079812  0.091091  0.131783  0.520539   \n",
              "1  0.091753  0.104798  0.097826  0.079030  0.091091  0.131783  0.520539   \n",
              "2  0.090722  0.103535  0.097826  0.078247  0.091091  0.130922  0.520539   \n",
              "3  0.090722  0.103535  0.097826  0.079030  0.091091  0.130060  0.519882   \n",
              "4  0.090722  0.102273  0.097826  0.079812  0.091091  0.128338  0.519224   \n",
              "\n",
              "        s15       s16       s17       s18       s19       s20       s21  \\\n",
              "0  0.613598  0.646888  0.128268  0.554981  0.086129  0.089286  0.238197   \n",
              "1  0.613256  0.646523  0.127451  0.554334  0.085628  0.089286  0.238197   \n",
              "2  0.613256  0.646523  0.126634  0.554334  0.085628  0.088728  0.237661   \n",
              "3  0.613256  0.646523  0.126634  0.554657  0.085628  0.088170  0.237124   \n",
              "4  0.612914  0.646159  0.126634  0.554657  0.084627  0.087612  0.237661   \n",
              "\n",
              "        s22       s23       s24       s25       s26       s27       s28  \\\n",
              "0  0.467206  0.084729  0.097230  0.101781  0.091703  0.096475  0.079466   \n",
              "1  0.466917  0.084236  0.096052  0.101781  0.091703  0.096475  0.079466   \n",
              "2  0.466917  0.083744  0.096052  0.101145  0.090611  0.095857  0.079466   \n",
              "3  0.466917  0.083251  0.096052  0.101145  0.091157  0.095857  0.078886   \n",
              "4  0.466917  0.083251  0.096052  0.100509  0.091703  0.095857  0.078886   \n",
              "\n",
              "        s29       s30       s31       s32       s33       s34       s35  \\\n",
              "0  0.085133  0.486084  0.112971  0.097015  0.104326  0.094687  0.118333   \n",
              "1  0.084498  0.485761  0.112134  0.096269  0.105174  0.094687  0.118333   \n",
              "2  0.084498  0.485437  0.111297  0.096269  0.103478  0.094005  0.118333   \n",
              "3  0.084498  0.485437  0.110460  0.096269  0.101781  0.094005  0.118333   \n",
              "4  0.085133  0.485113  0.109623  0.096269  0.101781  0.093324  0.118333   \n",
              "\n",
              "        s36       s37       s38       s39       s40       s41       s42  \\\n",
              "0  0.118321  0.127025  0.093128  0.094844  0.096598  0.095035  0.096440   \n",
              "1  0.116794  0.127877  0.093128  0.094208  0.095990  0.095035  0.095793   \n",
              "2  0.116031  0.127025  0.093128  0.093571  0.094775  0.095035  0.095146   \n",
              "3  0.116031  0.126172  0.092486  0.093571  0.094775  0.095035  0.095146   \n",
              "4  0.115267  0.125320  0.091201  0.091661  0.094775  0.094326  0.094498   \n",
              "\n",
              "        s43       s44       s45     s46       s47       s48       s49  \\\n",
              "0  0.098221  0.101186  0.096729  0.1080  0.096275  0.099366  0.086671   \n",
              "1  0.098932  0.100488  0.096729  0.1064  0.097681  0.099366  0.086671   \n",
              "2  0.098932  0.098395  0.096033  0.1064  0.097681  0.099366  0.086014   \n",
              "3  0.097509  0.099093  0.095338  0.1056  0.097681  0.099366  0.085358   \n",
              "4  0.098221  0.099791  0.094642  0.1048  0.095573  0.099366  0.085358   \n",
              "\n",
              "        s50       s51  \n",
              "0  0.091179  0.111727  \n",
              "1  0.090437  0.111727  \n",
              "2  0.089696  0.111727  \n",
              "3  0.089696  0.111727  \n",
              "4  0.088955  0.111727  "
            ]
          },
          "metadata": {
            "tags": []
          },
          "execution_count": 3
        }
      ]
    },
    {
      "cell_type": "code",
      "metadata": {
        "colab": {
          "base_uri": "https://localhost:8080/"
        },
        "id": "FH8YTOfwhrZ8",
        "outputId": "3f229da6-fc20-466b-8317-cf677d87a0c1"
      },
      "source": [
        "!pip install lazypredict"
      ],
      "execution_count": 4,
      "outputs": [
        {
          "output_type": "stream",
          "text": [
            "Requirement already satisfied: lazypredict in /usr/local/lib/python3.7/dist-packages (0.2.9)\n",
            "Requirement already satisfied: numpy==1.19.1 in /usr/local/lib/python3.7/dist-packages (from lazypredict) (1.19.1)\n",
            "Requirement already satisfied: scikit-learn==0.23.1 in /usr/local/lib/python3.7/dist-packages (from lazypredict) (0.23.1)\n",
            "Requirement already satisfied: scipy==1.5.4 in /usr/local/lib/python3.7/dist-packages (from lazypredict) (1.5.4)\n",
            "Requirement already satisfied: six==1.15.0 in /usr/local/lib/python3.7/dist-packages (from lazypredict) (1.15.0)\n",
            "Requirement already satisfied: pandas==1.0.5 in /usr/local/lib/python3.7/dist-packages (from lazypredict) (1.0.5)\n",
            "Requirement already satisfied: tqdm==4.56.0 in /usr/local/lib/python3.7/dist-packages (from lazypredict) (4.56.0)\n",
            "Requirement already satisfied: pytest==5.4.3 in /usr/local/lib/python3.7/dist-packages (from lazypredict) (5.4.3)\n",
            "Requirement already satisfied: lightgbm==2.3.1 in /usr/local/lib/python3.7/dist-packages (from lazypredict) (2.3.1)\n",
            "Requirement already satisfied: joblib==1.0.0 in /usr/local/lib/python3.7/dist-packages (from lazypredict) (1.0.0)\n",
            "Requirement already satisfied: click==7.1.2 in /usr/local/lib/python3.7/dist-packages (from lazypredict) (7.1.2)\n",
            "Requirement already satisfied: xgboost==1.1.1 in /usr/local/lib/python3.7/dist-packages (from lazypredict) (1.1.1)\n",
            "Requirement already satisfied: PyYAML==5.3.1 in /usr/local/lib/python3.7/dist-packages (from lazypredict) (5.3.1)\n",
            "Requirement already satisfied: threadpoolctl>=2.0.0 in /usr/local/lib/python3.7/dist-packages (from scikit-learn==0.23.1->lazypredict) (2.1.0)\n",
            "Requirement already satisfied: python-dateutil>=2.6.1 in /usr/local/lib/python3.7/dist-packages (from pandas==1.0.5->lazypredict) (2.8.1)\n",
            "Requirement already satisfied: pytz>=2017.2 in /usr/local/lib/python3.7/dist-packages (from pandas==1.0.5->lazypredict) (2018.9)\n",
            "Requirement already satisfied: pluggy<1.0,>=0.12 in /usr/local/lib/python3.7/dist-packages (from pytest==5.4.3->lazypredict) (0.13.1)\n",
            "Requirement already satisfied: py>=1.5.0 in /usr/local/lib/python3.7/dist-packages (from pytest==5.4.3->lazypredict) (1.10.0)\n",
            "Requirement already satisfied: wcwidth in /usr/local/lib/python3.7/dist-packages (from pytest==5.4.3->lazypredict) (0.2.5)\n",
            "Requirement already satisfied: importlib-metadata>=0.12; python_version < \"3.8\" in /usr/local/lib/python3.7/dist-packages (from pytest==5.4.3->lazypredict) (3.7.2)\n",
            "Requirement already satisfied: attrs>=17.4.0 in /usr/local/lib/python3.7/dist-packages (from pytest==5.4.3->lazypredict) (20.3.0)\n",
            "Requirement already satisfied: more-itertools>=4.0.0 in /usr/local/lib/python3.7/dist-packages (from pytest==5.4.3->lazypredict) (8.7.0)\n",
            "Requirement already satisfied: packaging in /usr/local/lib/python3.7/dist-packages (from pytest==5.4.3->lazypredict) (20.9)\n",
            "Requirement already satisfied: typing-extensions>=3.6.4; python_version < \"3.8\" in /usr/local/lib/python3.7/dist-packages (from importlib-metadata>=0.12; python_version < \"3.8\"->pytest==5.4.3->lazypredict) (3.7.4.3)\n",
            "Requirement already satisfied: zipp>=0.5 in /usr/local/lib/python3.7/dist-packages (from importlib-metadata>=0.12; python_version < \"3.8\"->pytest==5.4.3->lazypredict) (3.4.1)\n",
            "Requirement already satisfied: pyparsing>=2.0.2 in /usr/local/lib/python3.7/dist-packages (from packaging->pytest==5.4.3->lazypredict) (2.4.7)\n"
          ],
          "name": "stdout"
        }
      ]
    },
    {
      "cell_type": "code",
      "metadata": {
        "colab": {
          "base_uri": "https://localhost:8080/"
        },
        "id": "QjejPJwah2uW",
        "outputId": "44fc9dd5-c1d6-4155-83bd-3d788abed6fc"
      },
      "source": [
        "from lazypredict.Supervised import LazyRegressor\n",
        "from sklearn.model_selection import train_test_split\n",
        "X2 = X2.astype(np.float32)\n",
        "\n",
        "offset = int(X2.shape[0] * 0.9)\n",
        "\n",
        "X_train, y_train = X2[:offset], y[:offset]\n",
        "X_test, y_test = X2[offset:], y[offset:]\n",
        "# X_train, X_test, y_train, y_test = train_test_split(X2, y,test_size=.1,random_state =123)\n",
        "\n",
        "reg = LazyRegressor(verbose=0, ignore_warnings=False, custom_metric=None)\n",
        "models, predictions = reg.fit(X_train, X_test, y_train, y_test)\n",
        "\n",
        "print(models)"
      ],
      "execution_count": 5,
      "outputs": [
        {
          "output_type": "stream",
          "text": [
            "/usr/local/lib/python3.7/dist-packages/sklearn/utils/deprecation.py:143: FutureWarning: The sklearn.utils.testing module is  deprecated in version 0.22 and will be removed in version 0.24. The corresponding classes / functions should instead be imported from sklearn.utils. Anything that cannot be imported from sklearn.utils is now part of the private API.\n",
            "  warnings.warn(message, FutureWarning)\n",
            "100%|██████████| 42/42 [03:54<00:00,  5.59s/it]"
          ],
          "name": "stderr"
        },
        {
          "output_type": "stream",
          "text": [
            "                               Adjusted R-Squared  R-Squared  RMSE  Time Taken\n",
            "Model                                                                         \n",
            "LinearSVR                                    1.00       1.00  0.08        4.46\n",
            "HuberRegressor                               1.00       1.00  0.11        1.72\n",
            "SGDRegressor                                 0.99       0.99  0.13        0.16\n",
            "ElasticNetCV                                 0.99       0.99  0.14        0.61\n",
            "RANSACRegressor                              0.99       0.99  0.14        0.16\n",
            "LassoLarsCV                                  0.99       0.99  0.14        0.37\n",
            "LassoCV                                      0.99       0.99  0.14        0.45\n",
            "LassoLarsIC                                  0.99       0.99  0.15        0.11\n",
            "RidgeCV                                      0.99       0.99  0.17        0.12\n",
            "Ridge                                        0.99       0.99  0.17        0.06\n",
            "BayesianRidge                                0.99       0.99  0.17        0.11\n",
            "LinearRegression                             0.99       0.99  0.17        0.07\n",
            "TransformedTargetRegressor                   0.99       0.99  0.17        0.07\n",
            "OrthogonalMatchingPursuitCV                  0.98       0.98  0.21        0.19\n",
            "OrthogonalMatchingPursuit                    0.98       0.98  0.21        0.06\n",
            "LarsCV                                       0.98       0.98  0.23        0.30\n",
            "PoissonRegressor                             0.95       0.95  0.37        0.38\n",
            "PassiveAggressiveRegressor                   0.93       0.94  0.41        0.14\n",
            "NuSVR                                        0.92       0.93  0.44       31.70\n",
            "SVR                                          0.91       0.92  0.48        4.60\n",
            "Lasso                                        0.88       0.88  0.57        0.07\n",
            "GradientBoostingRegressor                    0.84       0.84  0.65       13.82\n",
            "LGBMRegressor                                0.82       0.83  0.68        1.28\n",
            "XGBRegressor                                 0.81       0.81  0.71        3.87\n",
            "HistGradientBoostingRegressor                0.80       0.81  0.72        1.81\n",
            "GeneralizedLinearRegressor                   0.80       0.81  0.72        0.13\n",
            "TweedieRegressor                             0.80       0.81  0.72        0.17\n",
            "GammaRegressor                               0.76       0.77  0.79        0.14\n",
            "ExtraTreeRegressor                           0.76       0.77  0.80        0.21\n",
            "AdaBoostRegressor                            0.73       0.74  0.84        6.45\n",
            "ElasticNet                                   0.73       0.74  0.84        0.10\n",
            "ExtraTreesRegressor                          0.71       0.72  0.88       10.69\n",
            "BaggingRegressor                             0.70       0.71  0.88        3.72\n",
            "RandomForestRegressor                        0.70       0.71  0.88       37.70\n",
            "DecisionTreeRegressor                        0.60       0.61  1.02        0.67\n",
            "MLPRegressor                                 0.55       0.57  1.08       16.93\n",
            "KNeighborsRegressor                          0.44       0.46  1.21        0.42\n",
            "DummyRegressor                              -1.28      -1.20  2.44        0.04\n",
            "LassoLars                                   -1.28      -1.20  2.44        0.06\n",
            "GaussianProcessRegressor                   -93.73     -90.37 15.73       64.24\n",
            "KernelRidge                               -145.24    -140.06 19.54       26.29\n",
            "Lars                                      -149.84    -144.49 19.85        0.08\n"
          ],
          "name": "stdout"
        },
        {
          "output_type": "stream",
          "text": [
            "\n"
          ],
          "name": "stderr"
        }
      ]
    },
    {
      "cell_type": "code",
      "metadata": {
        "id": "kop6D8xL7qVn"
      },
      "source": [
        "import matplotlib.pyplot as plt# Standardize/scale the dataset and apply PCA\n",
        "from sklearn.preprocessing import StandardScaler\n",
        "from sklearn.decomposition import PCA\n",
        "from sklearn.pipeline import make_pipeline\n",
        "# Extract the names of the numerical columns\n",
        "\n",
        "names=X.columns[13]\n",
        "x = X[names]"
      ],
      "execution_count": 6,
      "outputs": []
    },
    {
      "cell_type": "code",
      "metadata": {
        "colab": {
          "base_uri": "https://localhost:8080/"
        },
        "id": "h2LVUwVQ73bH",
        "outputId": "e69fd8a2-2a93-48a0-92e3-a82f09885beb"
      },
      "source": [
        "scaler = StandardScaler()\n",
        "pca = PCA()\n",
        "pipeline = make_pipeline(scaler, pca)\n",
        "pipeline.fit(x.values.reshape(-1, 1))"
      ],
      "execution_count": 7,
      "outputs": [
        {
          "output_type": "execute_result",
          "data": {
            "text/plain": [
              "Pipeline(steps=[('standardscaler', StandardScaler()), ('pca', PCA())])"
            ]
          },
          "metadata": {
            "tags": []
          },
          "execution_count": 7
        }
      ]
    },
    {
      "cell_type": "code",
      "metadata": {
        "colab": {
          "base_uri": "https://localhost:8080/",
          "height": 350
        },
        "id": "799C5Pbg76d2",
        "outputId": "8bee2887-d4b5-46f8-e83e-0bdb7826bb9a"
      },
      "source": [
        "# Plot the principal components against their inertia\n",
        "features = range(pca.n_components_)\n",
        "_ = plt.figure(figsize=(15, 5))\n",
        "_ = plt.bar(features, pca.explained_variance_)\n",
        "_ = plt.xlabel('PCA feature')\n",
        "_ = plt.ylabel('Variance')\n",
        "_ = plt.xticks(features)\n",
        "_ = plt.title(\"Importance of the Principal Components based on inertia\")\n",
        "plt.show()"
      ],
      "execution_count": 8,
      "outputs": [
        {
          "output_type": "display_data",
          "data": {
            "image/png": "[encoded data removed]",
            "text/plain": [
              "<Figure size 1080x360 with 1 Axes>"
            ]
          },
          "metadata": {
            "tags": [],
            "needs_background": "light"
          }
        }
      ]
    },
    {
      "cell_type": "code",
      "metadata": {
        "id": "X7P5_K9379Ue"
      },
      "source": [
        "# Calculate PCA with 1 components\n",
        "pca = PCA(n_components=1)\n",
        "principalComponents = pca.fit_transform(x.values.reshape(-1,1))\n",
        "principalDf = pd.DataFrame(data = principalComponents, columns = ['pc1'])"
      ],
      "execution_count": 9,
      "outputs": []
    },
    {
      "cell_type": "code",
      "metadata": {
        "colab": {
          "base_uri": "https://localhost:8080/"
        },
        "id": "-c1BtqfS8C_r",
        "outputId": "d015ffda-1231-4971-e8e6-6eb28f68e018"
      },
      "source": [
        "from statsmodels.tsa.stattools import adfuller\n",
        "# Run Augmented Dickey Fuller Test\n",
        "result = adfuller(principalDf['pc1'])\n",
        "# Print p-value\n",
        "print(result[1])"
      ],
      "execution_count": 10,
      "outputs": [
        {
          "output_type": "stream",
          "text": [
            "0.002218579641778257\n"
          ],
          "name": "stdout"
        }
      ]
    },
    {
      "cell_type": "markdown",
      "metadata": {
        "id": "GN_VNE-E8J1R"
      },
      "source": [
        "**Spam analysis**"
      ]
    },
    {
      "cell_type": "code",
      "metadata": {
        "colab": {
          "base_uri": "https://localhost:8080/",
          "height": 288
        },
        "id": "eoyiSUes8Fu9",
        "outputId": "0c30f43c-ab17-4110-f77b-59559670dd1a"
      },
      "source": [
        "sensor = 's14'\n",
        "df = pd.merge(left=principalDf, right=X[sensor], left_on=principalDf.index, right_on=X[sensor].index)\n",
        "df.describe()"
      ],
      "execution_count": 11,
      "outputs": [
        {
          "output_type": "execute_result",
          "data": {
            "text/html": [
              "<div>\n",
              "<style scoped>\n",
              "    .dataframe tbody tr th:only-of-type {\n",
              "        vertical-align: middle;\n",
              "    }\n",
              "\n",
              "    .dataframe tbody tr th {\n",
              "        vertical-align: top;\n",
              "    }\n",
              "\n",
              "    .dataframe thead th {\n",
              "        text-align: right;\n",
              "    }\n",
              "</style>\n",
              "<table border=\"1\" class=\"dataframe\">\n",
              "  <thead>\n",
              "    <tr style=\"text-align: right;\">\n",
              "      <th></th>\n",
              "      <th>key_0</th>\n",
              "      <th>pc1</th>\n",
              "      <th>s14</th>\n",
              "    </tr>\n",
              "  </thead>\n",
              "  <tbody>\n",
              "    <tr>\n",
              "      <th>count</th>\n",
              "      <td>14400.00</td>\n",
              "      <td>14400.00</td>\n",
              "      <td>14400.00</td>\n",
              "    </tr>\n",
              "    <tr>\n",
              "      <th>mean</th>\n",
              "      <td>7199.50</td>\n",
              "      <td>-0.00</td>\n",
              "      <td>20.46</td>\n",
              "    </tr>\n",
              "    <tr>\n",
              "      <th>std</th>\n",
              "      <td>4157.07</td>\n",
              "      <td>2.67</td>\n",
              "      <td>2.67</td>\n",
              "    </tr>\n",
              "    <tr>\n",
              "      <th>min</th>\n",
              "      <td>0.00</td>\n",
              "      <td>-10.44</td>\n",
              "      <td>0.47</td>\n",
              "    </tr>\n",
              "    <tr>\n",
              "      <th>25%</th>\n",
              "      <td>3599.75</td>\n",
              "      <td>-1.69</td>\n",
              "      <td>18.53</td>\n",
              "    </tr>\n",
              "    <tr>\n",
              "      <th>50%</th>\n",
              "      <td>7199.50</td>\n",
              "      <td>-0.29</td>\n",
              "      <td>20.75</td>\n",
              "    </tr>\n",
              "    <tr>\n",
              "      <th>75%</th>\n",
              "      <td>10799.25</td>\n",
              "      <td>1.93</td>\n",
              "      <td>22.15</td>\n",
              "    </tr>\n",
              "    <tr>\n",
              "      <th>max</th>\n",
              "      <td>14399.00</td>\n",
              "      <td>19.99</td>\n",
              "      <td>30.90</td>\n",
              "    </tr>\n",
              "  </tbody>\n",
              "</table>\n",
              "</div>"
            ],
            "text/plain": [
              "         key_0      pc1      s14\n",
              "count 14400.00 14400.00 14400.00\n",
              "mean   7199.50    -0.00    20.46\n",
              "std    4157.07     2.67     2.67\n",
              "min       0.00   -10.44     0.47\n",
              "25%    3599.75    -1.69    18.53\n",
              "50%    7199.50    -0.29    20.75\n",
              "75%   10799.25     1.93    22.15\n",
              "max   14399.00    19.99    30.90"
            ]
          },
          "metadata": {
            "tags": []
          },
          "execution_count": 11
        }
      ]
    },
    {
      "cell_type": "code",
      "metadata": {
        "colab": {
          "base_uri": "https://localhost:8080/"
        },
        "id": "WtiGttDY8Om6",
        "outputId": "28fcd041-f794-4618-e131-2daf16d99a3e"
      },
      "source": [
        "def escoragem(pred, real):\n",
        "    # computing errors\n",
        "    errors = np.abs(pred - real).flatten()\n",
        "    # estimation\n",
        "    mean = sum(errors)/len(errors)\n",
        "    cov = 0\n",
        "    for e in errors:\n",
        "        cov += (e - mean)**2\n",
        "    cov /= len(errors)\n",
        "\n",
        "    print('mean : ', mean)\n",
        "    print('cov : ', cov)\n",
        "    return errors, cov, mean\n",
        "\n",
        "# calculate Mahalanobis distance\n",
        "def Mahala_distantce(x,mean,cov):\n",
        "    return (x - mean)**2 / cov\n",
        "\n",
        "errors, cov, mean = escoragem(df['pc1'].values, df[sensor].values)\n",
        "\n",
        "mahala_dist = []\n",
        "for e in errors:\n",
        "    mahala_dist.append(Mahala_distantce(e, mean, cov))"
      ],
      "execution_count": 12,
      "outputs": [
        {
          "output_type": "stream",
          "text": [
            "mean :  20.475590947144884\n",
            "cov :  27.924420218379336\n"
          ],
          "name": "stdout"
        }
      ]
    },
    {
      "cell_type": "code",
      "metadata": {
        "id": "p69XU4NW8UnU"
      },
      "source": [
        "def scale(A):\n",
        "    return (A-np.min(A))/(np.max(A) - np.min(A))\n"
      ],
      "execution_count": 13,
      "outputs": []
    },
    {
      "cell_type": "code",
      "metadata": {
        "id": "LhM4tOXd8XQj"
      },
      "source": [
        "df['sensor_scores'] = mahala_dist\n",
        "df['scaled_sensor'] = scale(mahala_dist)"
      ],
      "execution_count": 14,
      "outputs": []
    },
    {
      "cell_type": "code",
      "metadata": {
        "colab": {
          "base_uri": "https://localhost:8080/",
          "height": 483
        },
        "id": "8DhHxMaR8Z0g",
        "outputId": "968458f2-40b9-4855-a318-0627a7d683e9"
      },
      "source": [
        "plt.figure(figsize=(12, 8))\n",
        "plt.hist(df['sensor_scores'], bins=100);\n"
      ],
      "execution_count": 15,
      "outputs": [
        {
          "output_type": "display_data",
          "data": {
            "image/png": "[encoded data removed]",
            "text/plain": [
              "<Figure size 864x576 with 1 Axes>"
            ]
          },
          "metadata": {
            "tags": [],
            "needs_background": "light"
          }
        }
      ]
    },
    {
      "cell_type": "code",
      "metadata": {
        "colab": {
          "base_uri": "https://localhost:8080/",
          "height": 483
        },
        "id": "J7etQ-YH8b-B",
        "outputId": "a7367055-3a87-4765-db94-2a34991b2290"
      },
      "source": [
        "plt.figure(figsize=(12, 8))\n",
        "plt.hist(df['scaled_sensor'], bins=100);"
      ],
      "execution_count": 16,
      "outputs": [
        {
          "output_type": "display_data",
          "data": {
            "image/png": "[encoded data removed]",
            "text/plain": [
              "<Figure size 864x576 with 1 Axes>"
            ]
          },
          "metadata": {
            "tags": [],
            "needs_background": "light"
          }
        }
      ]
    },
    {
      "cell_type": "code",
      "metadata": {
        "id": "r0J8Sl1_8far"
      },
      "source": [
        "q1_pc1, q3_pc1 = df['sensor_scores'].quantile([0.25, 0.75])\n",
        "iqr_pc1 = q3_pc1 - q1_pc1\n",
        "\n",
        "# Calculate upper and lower bounds for outlier for pc1\n",
        "lower_pc1 = q1_pc1 - (1.5*iqr_pc1)\n",
        "upper_pc1 = q3_pc1 + (1.5*iqr_pc1)\n",
        "    # Filter out the outliers from the pc1\n",
        "df['Spam_sensor'] = ((df['sensor_scores']>upper_pc1) | (df['sensor_scores']<lower_pc1)).astype('int')"
      ],
      "execution_count": 17,
      "outputs": []
    },
    {
      "cell_type": "code",
      "metadata": {
        "colab": {
          "base_uri": "https://localhost:8080/",
          "height": 729
        },
        "id": "0FJaomiD8igt",
        "outputId": "8549418d-bf0c-42f6-85e5-20925d2eba21"
      },
      "source": [
        "fig, axes = plt.subplots(nrows=2, figsize=(15,10))\n",
        "axes[0].plot(df[sensor], color='blue')\n",
        "axes[1].plot(np.array(mahala_dist).ravel(), color='red')\n",
        "\n",
        "axes[0].set_title('original score', fontsize=20)\n",
        "axes[1].set_title('Score of spam', fontsize=20)\n",
        "\n",
        "# axes[0].grid()\n",
        "# axes[1].grid()\n",
        "plt.tight_layout()\n",
        "plt.show()\n"
      ],
      "execution_count": 18,
      "outputs": [
        {
          "output_type": "display_data",
          "data": {
            "image/png": "[encoded data removed]",
            "text/plain": [
              "<Figure size 1080x720 with 2 Axes>"
            ]
          },
          "metadata": {
            "tags": [],
            "needs_background": "light"
          }
        }
      ]
    },
    {
      "cell_type": "code",
      "metadata": {
        "colab": {
          "base_uri": "https://localhost:8080/",
          "height": 198
        },
        "id": "o9OFZk0R9iLc",
        "outputId": "aeec42c3-6f08-45aa-ecb7-aa7bf921ff3b"
      },
      "source": [
        "df.head()"
      ],
      "execution_count": 19,
      "outputs": [
        {
          "output_type": "execute_result",
          "data": {
            "text/html": [
              "<div>\n",
              "<style scoped>\n",
              "    .dataframe tbody tr th:only-of-type {\n",
              "        vertical-align: middle;\n",
              "    }\n",
              "\n",
              "    .dataframe tbody tr th {\n",
              "        vertical-align: top;\n",
              "    }\n",
              "\n",
              "    .dataframe thead th {\n",
              "        text-align: right;\n",
              "    }\n",
              "</style>\n",
              "<table border=\"1\" class=\"dataframe\">\n",
              "  <thead>\n",
              "    <tr style=\"text-align: right;\">\n",
              "      <th></th>\n",
              "      <th>key_0</th>\n",
              "      <th>pc1</th>\n",
              "      <th>s14</th>\n",
              "      <th>sensor_scores</th>\n",
              "      <th>scaled_sensor</th>\n",
              "      <th>Spam_sensor</th>\n",
              "    </tr>\n",
              "  </thead>\n",
              "  <tbody>\n",
              "    <tr>\n",
              "      <th>0</th>\n",
              "      <td>0</td>\n",
              "      <td>4.15</td>\n",
              "      <td>16.31</td>\n",
              "      <td>2.48</td>\n",
              "      <td>0.16</td>\n",
              "      <td>0</td>\n",
              "    </tr>\n",
              "    <tr>\n",
              "      <th>1</th>\n",
              "      <td>1</td>\n",
              "      <td>4.15</td>\n",
              "      <td>16.31</td>\n",
              "      <td>2.48</td>\n",
              "      <td>0.16</td>\n",
              "      <td>0</td>\n",
              "    </tr>\n",
              "    <tr>\n",
              "      <th>2</th>\n",
              "      <td>2</td>\n",
              "      <td>4.15</td>\n",
              "      <td>16.31</td>\n",
              "      <td>2.48</td>\n",
              "      <td>0.16</td>\n",
              "      <td>0</td>\n",
              "    </tr>\n",
              "    <tr>\n",
              "      <th>3</th>\n",
              "      <td>3</td>\n",
              "      <td>4.17</td>\n",
              "      <td>16.29</td>\n",
              "      <td>2.50</td>\n",
              "      <td>0.16</td>\n",
              "      <td>0</td>\n",
              "    </tr>\n",
              "    <tr>\n",
              "      <th>4</th>\n",
              "      <td>4</td>\n",
              "      <td>4.19</td>\n",
              "      <td>16.27</td>\n",
              "      <td>2.53</td>\n",
              "      <td>0.16</td>\n",
              "      <td>0</td>\n",
              "    </tr>\n",
              "  </tbody>\n",
              "</table>\n",
              "</div>"
            ],
            "text/plain": [
              "   key_0  pc1   s14  sensor_scores  scaled_sensor  Spam_sensor\n",
              "0      0 4.15 16.31           2.48           0.16            0\n",
              "1      1 4.15 16.31           2.48           0.16            0\n",
              "2      2 4.15 16.31           2.48           0.16            0\n",
              "3      3 4.17 16.29           2.50           0.16            0\n",
              "4      4 4.19 16.27           2.53           0.16            0"
            ]
          },
          "metadata": {
            "tags": []
          },
          "execution_count": 19
        }
      ]
    },
    {
      "cell_type": "code",
      "metadata": {
        "colab": {
          "base_uri": "https://localhost:8080/",
          "height": 404
        },
        "id": "1IXoh82K8lQ4",
        "outputId": "f8353433-41fe-4561-b2cf-cb461a6c47f3"
      },
      "source": [
        "# visualization\n",
        "a = X.loc[df['Spam_sensor'] == 1] \n",
        "_ = plt.figure(figsize=(18,6))\n",
        "_ = plt.plot(df[sensor], color='blue', label='Normal')\n",
        "_ = plt.plot(a[sensor], linestyle='none', marker='X', color='red', markersize=12, label='spam')\n",
        "_ = plt.xlabel('Series')\n",
        "_ = plt.ylabel('Sensor reading')\n",
        "_ = plt.title('Sensor 1 Spamscore')\n",
        "_ = plt.legend(loc='best')\n",
        "plt.show();\n"
      ],
      "execution_count": 20,
      "outputs": [
        {
          "output_type": "display_data",
          "data": {
            "image/png": "[encoded data removed]",
            "text/plain": [
              "<Figure size 1296x432 with 1 Axes>"
            ]
          },
          "metadata": {
            "tags": [],
            "needs_background": "light"
          }
        }
      ]
    },
    {
      "cell_type": "markdown",
      "metadata": {
        "id": "WnUT8XBk-eSs"
      },
      "source": [
        "**Spam sensors**"
      ]
    },
    {
      "cell_type": "code",
      "metadata": {
        "colab": {
          "base_uri": "https://localhost:8080/",
          "height": 279
        },
        "id": "vLEDLdOk9fky",
        "outputId": "d666a2e0-8845-468b-9fbe-887163cd87db"
      },
      "source": [
        "N = X.shape[0]\n",
        "plt.scatter(range(N),df['scaled_sensor'][:N].cumsum(),marker='1',label='PCA ')\n",
        "plt.xlabel('sensor data')\n",
        "plt.ylabel('Spam detection')\n",
        "plt.legend()\n",
        "plt.show()"
      ],
      "execution_count": 21,
      "outputs": [
        {
          "output_type": "display_data",
          "data": {
            "image/png": "[encoded data removed]",
            "text/plain": [
              "<Figure size 432x288 with 1 Axes>"
            ]
          },
          "metadata": {
            "tags": [],
            "needs_background": "light"
          }
        }
      ]
    },
    {
      "cell_type": "code",
      "metadata": {
        "colab": {
          "base_uri": "https://localhost:8080/",
          "height": 198
        },
        "id": "w0iflppM-_az",
        "outputId": "f1c44ca7-63a5-4c37-f93c-34c85e5d8044"
      },
      "source": [
        "df.head()"
      ],
      "execution_count": 22,
      "outputs": [
        {
          "output_type": "execute_result",
          "data": {
            "text/html": [
              "<div>\n",
              "<style scoped>\n",
              "    .dataframe tbody tr th:only-of-type {\n",
              "        vertical-align: middle;\n",
              "    }\n",
              "\n",
              "    .dataframe tbody tr th {\n",
              "        vertical-align: top;\n",
              "    }\n",
              "\n",
              "    .dataframe thead th {\n",
              "        text-align: right;\n",
              "    }\n",
              "</style>\n",
              "<table border=\"1\" class=\"dataframe\">\n",
              "  <thead>\n",
              "    <tr style=\"text-align: right;\">\n",
              "      <th></th>\n",
              "      <th>key_0</th>\n",
              "      <th>pc1</th>\n",
              "      <th>s14</th>\n",
              "      <th>sensor_scores</th>\n",
              "      <th>scaled_sensor</th>\n",
              "      <th>Spam_sensor</th>\n",
              "    </tr>\n",
              "  </thead>\n",
              "  <tbody>\n",
              "    <tr>\n",
              "      <th>0</th>\n",
              "      <td>0</td>\n",
              "      <td>4.15</td>\n",
              "      <td>16.31</td>\n",
              "      <td>2.48</td>\n",
              "      <td>0.16</td>\n",
              "      <td>0</td>\n",
              "    </tr>\n",
              "    <tr>\n",
              "      <th>1</th>\n",
              "      <td>1</td>\n",
              "      <td>4.15</td>\n",
              "      <td>16.31</td>\n",
              "      <td>2.48</td>\n",
              "      <td>0.16</td>\n",
              "      <td>0</td>\n",
              "    </tr>\n",
              "    <tr>\n",
              "      <th>2</th>\n",
              "      <td>2</td>\n",
              "      <td>4.15</td>\n",
              "      <td>16.31</td>\n",
              "      <td>2.48</td>\n",
              "      <td>0.16</td>\n",
              "      <td>0</td>\n",
              "    </tr>\n",
              "    <tr>\n",
              "      <th>3</th>\n",
              "      <td>3</td>\n",
              "      <td>4.17</td>\n",
              "      <td>16.29</td>\n",
              "      <td>2.50</td>\n",
              "      <td>0.16</td>\n",
              "      <td>0</td>\n",
              "    </tr>\n",
              "    <tr>\n",
              "      <th>4</th>\n",
              "      <td>4</td>\n",
              "      <td>4.19</td>\n",
              "      <td>16.27</td>\n",
              "      <td>2.53</td>\n",
              "      <td>0.16</td>\n",
              "      <td>0</td>\n",
              "    </tr>\n",
              "  </tbody>\n",
              "</table>\n",
              "</div>"
            ],
            "text/plain": [
              "   key_0  pc1   s14  sensor_scores  scaled_sensor  Spam_sensor\n",
              "0      0 4.15 16.31           2.48           0.16            0\n",
              "1      1 4.15 16.31           2.48           0.16            0\n",
              "2      2 4.15 16.31           2.48           0.16            0\n",
              "3      3 4.17 16.29           2.50           0.16            0\n",
              "4      4 4.19 16.27           2.53           0.16            0"
            ]
          },
          "metadata": {
            "tags": []
          },
          "execution_count": 22
        }
      ]
    },
    {
      "cell_type": "code",
      "metadata": {
        "colab": {
          "base_uri": "https://localhost:8080/",
          "height": 316
        },
        "id": "scMctSd0-xxi",
        "outputId": "7c0395ef-4907-4676-8b1b-4e8356246c28"
      },
      "source": [
        "#2 -- Distributions of Predicted Probabilities of both classes\n",
        "labels=['Positive','negative']\n",
        "plt.hist(df[df['Spam_sensor']==1]['scaled_sensor'], density=False, bins=100,\n",
        "             alpha=.5, color='green',  label=labels[0])\n",
        "plt.hist(df[df['Spam_sensor']==0]['scaled_sensor'], density=False, bins=100,\n",
        "             alpha=.5, color='red', label=labels[1])\n",
        "plt.axvline(.5, color='blue', linestyle='--', label='Decision boundary')\n",
        "# plt.xlim([0,1])\n",
        "plt.title('Distribution of Values', size=13)\n",
        "plt.xlabel('Normalized values', size=13)\n",
        "plt.ylabel('Sample (standardized)', size=13)\n",
        "plt.legend(loc=\"upper right\")"
      ],
      "execution_count": 23,
      "outputs": [
        {
          "output_type": "execute_result",
          "data": {
            "text/plain": [
              "<matplotlib.legend.Legend at 0x7f52972f7790>"
            ]
          },
          "metadata": {
            "tags": []
          },
          "execution_count": 23
        },
        {
          "output_type": "display_data",
          "data": {
            "image/png": "[encoded data removed]",
            "text/plain": [
              "<Figure size 432x288 with 1 Axes>"
            ]
          },
          "metadata": {
            "tags": [],
            "needs_background": "light"
          }
        }
      ]
    },
    {
      "cell_type": "markdown",
      "metadata": {
        "id": "Uctj8sKK_xFP"
      },
      "source": [
        "**Calculating the IQR as anomaly score**"
      ]
    },
    {
      "cell_type": "code",
      "metadata": {
        "id": "OXYI3Km7_mNx"
      },
      "source": [
        "# Calculate IQR for the 1st principal component (pc1)\n",
        "q1_pc1, q3_pc1 = df['pc1'].quantile([0.25, 0.75])\n",
        "iqr_pc1 = q3_pc1 - q1_pc1\n",
        "# Calculate upper and lower bounds for outlier for pc1\n",
        "lower_pc1 = q1_pc1 - (1.5*iqr_pc1)\n",
        "upper_pc1 = q3_pc1 + (1.5*iqr_pc1)\n",
        "# Filter out the outliers from the pc1\n",
        "df['anomaly_pc1'] = ((df['pc1']>upper_pc1) | (df['pc1']<lower_pc1)).astype('int')"
      ],
      "execution_count": 24,
      "outputs": []
    },
    {
      "cell_type": "code",
      "metadata": {
        "colab": {
          "base_uri": "https://localhost:8080/",
          "height": 729
        },
        "id": "74JlBA_f_5nT",
        "outputId": "dfa68ec3-df3a-4d30-bb8f-f650d78590b7"
      },
      "source": [
        "fig, axes = plt.subplots(nrows=2, figsize=(15,10))\n",
        "axes[0].plot(df[sensor], color='blue')\n",
        "axes[1].plot(df['anomaly_pc1'], color='red')\n",
        "\n",
        "axes[0].set_title('Original data', fontsize=20)\n",
        "axes[1].set_title('Spamicity score', fontsize=20)\n",
        "\n",
        "# axes[0].grid()\n",
        "# axes[1].grid()\n",
        "plt.tight_layout()\n",
        "plt.show()"
      ],
      "execution_count": 25,
      "outputs": [
        {
          "output_type": "display_data",
          "data": {
            "image/png": "[encoded data removed]",
            "text/plain": [
              "<Figure size 1080x720 with 2 Axes>"
            ]
          },
          "metadata": {
            "tags": [],
            "needs_background": "light"
          }
        }
      ]
    },
    {
      "cell_type": "code",
      "metadata": {
        "colab": {
          "base_uri": "https://localhost:8080/",
          "height": 404
        },
        "id": "1OjmE-_-_8pk",
        "outputId": "9f2fbb09-33f6-4b57-bfd8-6f9ff8d792e9"
      },
      "source": [
        "# Let's plot the outliers from pc1 on top of the sensor_11 and see where they occured in the time series\n",
        "a = df[df['anomaly_pc1'] == 1] #anomaly\n",
        "_ = plt.figure(figsize=(18,6))\n",
        "_ = plt.plot(X[sensor], color='blue', label='Normal')\n",
        "_ = plt.plot(a[sensor], linestyle='none', marker='X', color='red', markersize=12, label='Spam')\n",
        "_ = plt.xlabel('Epoch')\n",
        "_ = plt.ylabel('Sensor Readings')\n",
        "_ = plt.title('Spamicity of sensor data ')\n",
        "_ = plt.legend(loc='best')\n",
        "plt.show();"
      ],
      "execution_count": 26,
      "outputs": [
        {
          "output_type": "display_data",
          "data": {
            "image/png": "[encoded data removed]",
            "text/plain": [
              "<Figure size 1296x432 with 1 Axes>"
            ]
          },
          "metadata": {
            "tags": [],
            "needs_background": "light"
          }
        }
      ]
    },
    {
      "cell_type": "markdown",
      "metadata": {
        "id": "n5H784LWAkwK"
      },
      "source": [
        "**Spamicity of sensors**"
      ]
    },
    {
      "cell_type": "code",
      "metadata": {
        "colab": {
          "base_uri": "https://localhost:8080/",
          "height": 279
        },
        "id": "v9sUAF36AZ6-",
        "outputId": "4430b175-844b-4fe8-c9cc-81894add62f7"
      },
      "source": [
        "N = X.shape[0]\n",
        "plt.scatter(range(N),df['anomaly_pc1'][:N].cumsum(),marker='1',label='PCA ')\n",
        "plt.xlabel('Sensor data')\n",
        "plt.ylabel('Spams')\n",
        "plt.legend()\n",
        "plt.show()"
      ],
      "execution_count": 27,
      "outputs": [
        {
          "output_type": "display_data",
          "data": {
            "image/png": "[encoded data removed]",
            "text/plain": [
              "<Figure size 432x288 with 1 Axes>"
            ]
          },
          "metadata": {
            "tags": [],
            "needs_background": "light"
          }
        }
      ]
    },
    {
      "cell_type": "markdown",
      "metadata": {
        "id": "OQJ_yZKTA-uz"
      },
      "source": [
        "**Distribution of scores for Spam sensors**"
      ]
    },
    {
      "cell_type": "code",
      "metadata": {
        "colab": {
          "base_uri": "https://localhost:8080/",
          "height": 198
        },
        "id": "tt7Qj2TyBLvA",
        "outputId": "d2672cf6-b82a-40f8-d693-abc5e510f2c3"
      },
      "source": [
        "df.head()"
      ],
      "execution_count": 28,
      "outputs": [
        {
          "output_type": "execute_result",
          "data": {
            "text/html": [
              "<div>\n",
              "<style scoped>\n",
              "    .dataframe tbody tr th:only-of-type {\n",
              "        vertical-align: middle;\n",
              "    }\n",
              "\n",
              "    .dataframe tbody tr th {\n",
              "        vertical-align: top;\n",
              "    }\n",
              "\n",
              "    .dataframe thead th {\n",
              "        text-align: right;\n",
              "    }\n",
              "</style>\n",
              "<table border=\"1\" class=\"dataframe\">\n",
              "  <thead>\n",
              "    <tr style=\"text-align: right;\">\n",
              "      <th></th>\n",
              "      <th>key_0</th>\n",
              "      <th>pc1</th>\n",
              "      <th>s14</th>\n",
              "      <th>sensor_scores</th>\n",
              "      <th>scaled_sensor</th>\n",
              "      <th>Spam_sensor</th>\n",
              "      <th>anomaly_pc1</th>\n",
              "    </tr>\n",
              "  </thead>\n",
              "  <tbody>\n",
              "    <tr>\n",
              "      <th>0</th>\n",
              "      <td>0</td>\n",
              "      <td>4.15</td>\n",
              "      <td>16.31</td>\n",
              "      <td>2.48</td>\n",
              "      <td>0.16</td>\n",
              "      <td>0</td>\n",
              "      <td>0</td>\n",
              "    </tr>\n",
              "    <tr>\n",
              "      <th>1</th>\n",
              "      <td>1</td>\n",
              "      <td>4.15</td>\n",
              "      <td>16.31</td>\n",
              "      <td>2.48</td>\n",
              "      <td>0.16</td>\n",
              "      <td>0</td>\n",
              "      <td>0</td>\n",
              "    </tr>\n",
              "    <tr>\n",
              "      <th>2</th>\n",
              "      <td>2</td>\n",
              "      <td>4.15</td>\n",
              "      <td>16.31</td>\n",
              "      <td>2.48</td>\n",
              "      <td>0.16</td>\n",
              "      <td>0</td>\n",
              "      <td>0</td>\n",
              "    </tr>\n",
              "    <tr>\n",
              "      <th>3</th>\n",
              "      <td>3</td>\n",
              "      <td>4.17</td>\n",
              "      <td>16.29</td>\n",
              "      <td>2.50</td>\n",
              "      <td>0.16</td>\n",
              "      <td>0</td>\n",
              "      <td>0</td>\n",
              "    </tr>\n",
              "    <tr>\n",
              "      <th>4</th>\n",
              "      <td>4</td>\n",
              "      <td>4.19</td>\n",
              "      <td>16.27</td>\n",
              "      <td>2.53</td>\n",
              "      <td>0.16</td>\n",
              "      <td>0</td>\n",
              "      <td>0</td>\n",
              "    </tr>\n",
              "  </tbody>\n",
              "</table>\n",
              "</div>"
            ],
            "text/plain": [
              "   key_0  pc1   s14  sensor_scores  scaled_sensor  Spam_sensor  anomaly_pc1\n",
              "0      0 4.15 16.31           2.48           0.16            0            0\n",
              "1      1 4.15 16.31           2.48           0.16            0            0\n",
              "2      2 4.15 16.31           2.48           0.16            0            0\n",
              "3      3 4.17 16.29           2.50           0.16            0            0\n",
              "4      4 4.19 16.27           2.53           0.16            0            0"
            ]
          },
          "metadata": {
            "tags": []
          },
          "execution_count": 28
        }
      ]
    },
    {
      "cell_type": "code",
      "metadata": {
        "colab": {
          "base_uri": "https://localhost:8080/",
          "height": 316
        },
        "id": "wjIPOUBgA4E5",
        "outputId": "0472c28a-11dd-4165-b3bd-5e86912f530a"
      },
      "source": [
        "#2 -- Distributions of Predicted Probabilities of both classes\n",
        "labels=['Positive','negative']\n",
        "plt.hist(df[df['anomaly_pc1']==1]['scaled_sensor'], density=False, bins=100,\n",
        "             alpha=.5, color='green',  label=labels[0])\n",
        "plt.hist(df[df['anomaly_pc1']==0]['scaled_sensor'], density=False, bins=100,\n",
        "             alpha=.5, color='red', label=labels[1])\n",
        "plt.axvline(.5, color='blue', linestyle='--', label='Decision Boundary')\n",
        "# plt.xlim([0,1])\n",
        "plt.title('Distribution of values', size=13)\n",
        "plt.xlabel('Normalized values', size=13)\n",
        "plt.ylabel('Sample (standardized)', size=13)\n",
        "plt.legend(loc=\"upper right\")"
      ],
      "execution_count": 29,
      "outputs": [
        {
          "output_type": "execute_result",
          "data": {
            "text/plain": [
              "<matplotlib.legend.Legend at 0x7f5294b4fb90>"
            ]
          },
          "metadata": {
            "tags": []
          },
          "execution_count": 29
        },
        {
          "output_type": "display_data",
          "data": {
            "image/png": "[encoded data removed]",
            "text/plain": [
              "<Figure size 432x288 with 1 Axes>"
            ]
          },
          "metadata": {
            "tags": [],
            "needs_background": "light"
          }
        }
      ]
    },
    {
      "cell_type": "code",
      "metadata": {
        "colab": {
          "base_uri": "https://localhost:8080/",
          "height": 198
        },
        "id": "e_4Bt6plCMaQ",
        "outputId": "2a115b9c-c28a-4006-8fe6-69a13f9e90c0"
      },
      "source": [
        "df.head()"
      ],
      "execution_count": 30,
      "outputs": [
        {
          "output_type": "execute_result",
          "data": {
            "text/html": [
              "<div>\n",
              "<style scoped>\n",
              "    .dataframe tbody tr th:only-of-type {\n",
              "        vertical-align: middle;\n",
              "    }\n",
              "\n",
              "    .dataframe tbody tr th {\n",
              "        vertical-align: top;\n",
              "    }\n",
              "\n",
              "    .dataframe thead th {\n",
              "        text-align: right;\n",
              "    }\n",
              "</style>\n",
              "<table border=\"1\" class=\"dataframe\">\n",
              "  <thead>\n",
              "    <tr style=\"text-align: right;\">\n",
              "      <th></th>\n",
              "      <th>key_0</th>\n",
              "      <th>pc1</th>\n",
              "      <th>s14</th>\n",
              "      <th>sensor_scores</th>\n",
              "      <th>scaled_sensor</th>\n",
              "      <th>Spam_sensor</th>\n",
              "      <th>anomaly_pc1</th>\n",
              "    </tr>\n",
              "  </thead>\n",
              "  <tbody>\n",
              "    <tr>\n",
              "      <th>0</th>\n",
              "      <td>0</td>\n",
              "      <td>4.15</td>\n",
              "      <td>16.31</td>\n",
              "      <td>2.48</td>\n",
              "      <td>0.16</td>\n",
              "      <td>0</td>\n",
              "      <td>0</td>\n",
              "    </tr>\n",
              "    <tr>\n",
              "      <th>1</th>\n",
              "      <td>1</td>\n",
              "      <td>4.15</td>\n",
              "      <td>16.31</td>\n",
              "      <td>2.48</td>\n",
              "      <td>0.16</td>\n",
              "      <td>0</td>\n",
              "      <td>0</td>\n",
              "    </tr>\n",
              "    <tr>\n",
              "      <th>2</th>\n",
              "      <td>2</td>\n",
              "      <td>4.15</td>\n",
              "      <td>16.31</td>\n",
              "      <td>2.48</td>\n",
              "      <td>0.16</td>\n",
              "      <td>0</td>\n",
              "      <td>0</td>\n",
              "    </tr>\n",
              "    <tr>\n",
              "      <th>3</th>\n",
              "      <td>3</td>\n",
              "      <td>4.17</td>\n",
              "      <td>16.29</td>\n",
              "      <td>2.50</td>\n",
              "      <td>0.16</td>\n",
              "      <td>0</td>\n",
              "      <td>0</td>\n",
              "    </tr>\n",
              "    <tr>\n",
              "      <th>4</th>\n",
              "      <td>4</td>\n",
              "      <td>4.19</td>\n",
              "      <td>16.27</td>\n",
              "      <td>2.53</td>\n",
              "      <td>0.16</td>\n",
              "      <td>0</td>\n",
              "      <td>0</td>\n",
              "    </tr>\n",
              "  </tbody>\n",
              "</table>\n",
              "</div>"
            ],
            "text/plain": [
              "   key_0  pc1   s14  sensor_scores  scaled_sensor  Spam_sensor  anomaly_pc1\n",
              "0      0 4.15 16.31           2.48           0.16            0            0\n",
              "1      1 4.15 16.31           2.48           0.16            0            0\n",
              "2      2 4.15 16.31           2.48           0.16            0            0\n",
              "3      3 4.17 16.29           2.50           0.16            0            0\n",
              "4      4 4.19 16.27           2.53           0.16            0            0"
            ]
          },
          "metadata": {
            "tags": []
          },
          "execution_count": 30
        }
      ]
    },
    {
      "cell_type": "markdown",
      "metadata": {
        "id": "W4u2aSTxCoNe"
      },
      "source": [
        "Calcualting the spamicity score"
      ]
    },
    {
      "cell_type": "code",
      "metadata": {
        "colab": {
          "base_uri": "https://localhost:8080/"
        },
        "id": "7-DfJ0s1Bjwu",
        "outputId": "82a46016-756e-4855-a8af-7eeee4b1d466"
      },
      "source": [
        "Spamicity_score=len(df[df['anomaly_pc1']==1])/len(df)\n",
        "Non_spamicity=1-Spamicity_score\n",
        "print(Spamicity_score)"
      ],
      "execution_count": 31,
      "outputs": [
        {
          "output_type": "stream",
          "text": [
            "0.013958333333333333\n"
          ],
          "name": "stdout"
        }
      ]
    },
    {
      "cell_type": "code",
      "metadata": {
        "id": "vK3YWKHgENJC",
        "colab": {
          "base_uri": "https://localhost:8080/"
        },
        "outputId": "b13f3c05-8a06-44bd-bfd4-39a99811bf56"
      },
      "source": [
        "df.anomaly_pc1.value_counts()"
      ],
      "execution_count": 32,
      "outputs": [
        {
          "output_type": "execute_result",
          "data": {
            "text/plain": [
              "0    14199\n",
              "1      201\n",
              "Name: anomaly_pc1, dtype: int64"
            ]
          },
          "metadata": {
            "tags": []
          },
          "execution_count": 32
        }
      ]
    },
    {
      "cell_type": "code",
      "metadata": {
        "colab": {
          "base_uri": "https://localhost:8080/",
          "height": 266
        },
        "id": "2Jca-lrEB0d9",
        "outputId": "297320a2-1aee-402c-a4c2-ad6dca0a9fe9"
      },
      "source": [
        "results=pd.DataFrame(data={'Spam':[Spamicity_score],'Non_Spam':[Non_spamicity]})\n",
        "import seaborn as sns\n",
        "sns.barplot(data=results)\n",
        "plt.show()"
      ],
      "execution_count": 33,
      "outputs": [
        {
          "output_type": "display_data",
          "data": {
            "image/png": "[encoded data removed]",
            "text/plain": [
              "<Figure size 432x288 with 1 Axes>"
            ]
          },
          "metadata": {
            "tags": [],
            "needs_background": "light"
          }
        }
      ]
    },
    {
      "cell_type": "code",
      "metadata": {
        "id": "XLDZWVN1DBwR"
      },
      "source": [
        ""
      ],
      "execution_count": 33,
      "outputs": []
    }
  ]
}